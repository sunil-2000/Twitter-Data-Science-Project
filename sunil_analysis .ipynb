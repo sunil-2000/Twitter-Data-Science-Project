{
 "cells": [
  {
   "cell_type": "code",
   "execution_count": 10,
   "metadata": {},
   "outputs": [],
   "source": [
    "import pandas as pd \n",
    "import numpy as np \n",
    "import seaborn \n",
    "import datetime"
   ]
  },
  {
   "cell_type": "code",
   "execution_count": 3,
   "metadata": {},
   "outputs": [],
   "source": [
    "biden = pandas.read_csv(\"biden_tweets.csv\")\n",
    "trump = pandas.read_csv(\"trump_tweets.csv\")\n",
    "# want to do cluster analysis, based on created_at date and favourites / retweets recieved \n",
    "# cluster by morning / day / evening <- created_at represented with military time "
   ]
  },
  {
   "cell_type": "code",
   "execution_count": 22,
   "metadata": {},
   "outputs": [],
   "source": [
    "biden.head()\n",
    "biden.dtypes\n",
    "date = biden[\"created_at\"]\n",
    "\n",
    "date[0]\n",
    "biden[\"date_test\"] = pd.to_datetime(biden[\"created_at\"], format = \"%Y-%m-%d %H:%M:%S\")"
   ]
  },
  {
   "cell_type": "code",
   "execution_count": 24,
   "metadata": {},
   "outputs": [
    {
     "data": {
      "text/plain": [
       "0      2020-10-07 02:12:00\n",
       "1      2020-10-07 01:30:00\n",
       "2      2020-10-07 01:05:00\n",
       "3      2020-10-07 00:46:00\n",
       "4      2020-10-07 00:15:00\n",
       "               ...        \n",
       "3079   2019-10-16 03:24:14\n",
       "3080   2019-10-16 03:21:44\n",
       "3081   2019-10-16 03:13:06\n",
       "3082   2019-10-16 02:47:51\n",
       "3083   2019-10-16 02:35:02\n",
       "Name: date_test, Length: 3084, dtype: datetime64[ns]"
      ]
     },
     "execution_count": 24,
     "metadata": {},
     "output_type": "execute_result"
    }
   ],
   "source": [
    "biden[\"date_test\"]"
   ]
  },
  {
   "cell_type": "code",
   "execution_count": null,
   "metadata": {},
   "outputs": [],
   "source": []
  }
 ],
 "metadata": {
  "kernelspec": {
   "display_name": "Python 3",
   "language": "python",
   "name": "python3"
  },
  "language_info": {
   "codemirror_mode": {
    "name": "ipython",
    "version": 3
   },
   "file_extension": ".py",
   "mimetype": "text/x-python",
   "name": "python",
   "nbconvert_exporter": "python",
   "pygments_lexer": "ipython3",
   "version": "3.7.4"
  }
 },
 "nbformat": 4,
 "nbformat_minor": 2
}
