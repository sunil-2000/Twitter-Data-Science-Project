{
 "cells": [
  {
   "cell_type": "code",
   "execution_count": 1,
   "metadata": {},
   "outputs": [],
   "source": [
    "import tweepy\n",
    "import pandas as pd\n",
    "import numpy as np\n",
    "import csv\n",
    "import time\n",
    "\n",
    "\n",
    "api_key = \"v7TtLK0T6q01f9xumOeRM7RIl\"\n",
    "api_secret = \"EeibJ9ZaMstD3z6aXTERyNtOltgJQrhesQ7LwkjMC1QnT71Geq\"\n",
    "access_token = \"1252553614062567425-yMJPXWqwKBfhcwuj5Au2NgDBbLt9jU\"\n",
    "access_token_secret = \"Uj1eRLSHb1c4oAqE9iemaNASOFzNZDNgOQhTL1VQOJWBT\""
   ]
  },
  {
   "cell_type": "code",
   "execution_count": 2,
   "metadata": {},
   "outputs": [],
   "source": [
    "auth = tweepy.OAuthHandler(api_key, api_secret)\n",
    "auth.set_access_token(access_token, access_token_secret)\n",
    "api = tweepy.API(auth)"
   ]
  },
  {
   "cell_type": "code",
   "execution_count": 3,
   "metadata": {},
   "outputs": [],
   "source": [
    "'''Twitter mining function to pull more than 3200 tweets from a given user  '''\n",
    "def mine_tweets (api, user_id, tweet_count_limit):\n",
    "    \n",
    "    tweets_init = api.user_timeline(screen_name = user_id, \n",
    "                                    count = 200, \n",
    "                                    include_rts = False, \n",
    "                                    tweet_mode = 'extended', \n",
    "                                    wait_on_rate_limit = True)\n",
    "    \n",
    "    all_tweets = []\n",
    "    oldest_id = tweets_init[0].id\n",
    "    \n",
    "    while (len(all_tweets) <= tweet_count_limit):\n",
    "        tweets = tweepy.Cursor(api.user_timeline, \n",
    "                                screen_name = user_id,\n",
    "                                count= 200,\n",
    "                                include_rts = False,\n",
    "                                tweet_mode = 'extended',\n",
    "                                max_id = oldest_id,\n",
    "                                wait_on_rate_limit = True).items()\n",
    "        for tweet in tweets:\n",
    "            oldest_id = tweet.id\n",
    "            if tweet not in all_tweets:\n",
    "                all_tweets.append(tweet)\n",
    "        print('Number of tweets downloaded {}'.format(len(all_tweets)))\n",
    "    \n",
    "    return all_tweets\n"
   ]
  },
  {
   "cell_type": "code",
   "execution_count": 5,
   "metadata": {},
   "outputs": [
    {
     "name": "stdout",
     "output_type": "stream",
     "text": [
      "Number of tweets downloaded 1\n",
      "Number of tweets downloaded 15\n",
      "Number of tweets downloaded 35\n",
      "Number of tweets downloaded 35\n",
      "Number of tweets downloaded 35\n",
      "Number of tweets downloaded 35\n",
      "Number of tweets downloaded 35\n",
      "Number of tweets downloaded 35\n",
      "Number of tweets downloaded 35\n",
      "Number of tweets downloaded 35\n",
      "Number of tweets downloaded 137\n",
      "Number of tweets downloaded 245\n",
      "Number of tweets downloaded 245\n",
      "Number of tweets downloaded 345\n",
      "Number of tweets downloaded 345\n",
      "Number of tweets downloaded 345\n",
      "Number of tweets downloaded 345\n",
      "Number of tweets downloaded 467\n",
      "Number of tweets downloaded 467\n",
      "Number of tweets downloaded 467\n",
      "Number of tweets downloaded 467\n",
      "Number of tweets downloaded 467\n",
      "Number of tweets downloaded 573\n",
      "Number of tweets downloaded 573\n",
      "Number of tweets downloaded 766\n",
      "Number of tweets downloaded 766\n",
      "Number of tweets downloaded 766\n",
      "Number of tweets downloaded 766\n",
      "Number of tweets downloaded 766\n",
      "Number of tweets downloaded 875\n",
      "Number of tweets downloaded 875\n",
      "Number of tweets downloaded 875\n",
      "Number of tweets downloaded 875\n",
      "Number of tweets downloaded 875\n",
      "Number of tweets downloaded 875\n",
      "Number of tweets downloaded 1129\n",
      "Number of tweets downloaded 1129\n",
      "Number of tweets downloaded 1129\n",
      "Number of tweets downloaded 1129\n",
      "Number of tweets downloaded 1129\n",
      "Number of tweets downloaded 1129\n",
      "Number of tweets downloaded 1129\n",
      "Number of tweets downloaded 1203\n",
      "Number of tweets downloaded 1203\n",
      "Number of tweets downloaded 1203\n",
      "Number of tweets downloaded 1291\n",
      "Number of tweets downloaded 1291\n",
      "Number of tweets downloaded 1291\n",
      "Number of tweets downloaded 1388\n",
      "Number of tweets downloaded 1531\n",
      "Number of tweets downloaded 1577\n",
      "Number of tweets downloaded 1607\n",
      "done\n"
     ]
    }
   ],
   "source": [
    "trump_500 = mine_tweets(api, \"@realDonaldTrump\", 1600)\n",
    "print(\"done\")"
   ]
  },
  {
   "cell_type": "code",
   "execution_count": null,
   "metadata": {},
   "outputs": [],
   "source": [
    "results = []\n",
    "full_text = []\n",
    "entities = []\n",
    "created_at =[]\n",
    "favourite = []\n",
    "retweets = []\n",
    "language = []\n",
    "geo_location = []\n",
    "in_reply = []\n",
    "for i in biden_tweets:\n",
    "    results.append(i.id)\n",
    "    full_text.append(i.full_text)\n",
    "    entities.append(i.entities)\n",
    "    created_at.append(i.created_at)\n",
    "    favourite.append(i.favorite_count)\n",
    "    retweets.append(i.retweet_count)\n",
    "    language.append(i.lang)\n",
    "    geo_location.append(i.geo)\n",
    "    in_reply.append(i.in_reply_to_user_id)\n",
    "    \n",
    "    \n",
    "\n",
    "len(np.unique(results))"
   ]
  },
  {
   "cell_type": "code",
   "execution_count": null,
   "metadata": {},
   "outputs": [],
   "source": []
  },
  {
   "cell_type": "code",
   "execution_count": null,
   "metadata": {},
   "outputs": [],
   "source": [
    "tweets_df.head()\n",
    "tweets_df.to_csv('trump_tweets.csv')"
   ]
  },
  {
   "cell_type": "code",
   "execution_count": null,
   "metadata": {},
   "outputs": [],
   "source": []
  }
 ],
 "metadata": {
  "kernelspec": {
   "display_name": "Python 3",
   "language": "python",
   "name": "python3"
  },
  "language_info": {
   "codemirror_mode": {
    "name": "ipython",
    "version": 3
   },
   "file_extension": ".py",
   "mimetype": "text/x-python",
   "name": "python",
   "nbconvert_exporter": "python",
   "pygments_lexer": "ipython3",
   "version": "3.8.3"
  }
 },
 "nbformat": 4,
 "nbformat_minor": 2
}
