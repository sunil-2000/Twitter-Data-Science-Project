{
 "cells": [
  {
   "cell_type": "code",
   "execution_count": 23,
   "metadata": {},
   "outputs": [],
   "source": [
    "import tweepy\n",
    "import pandas as pd\n",
    "import numpy as np\n",
    "import csv\n",
    "import time\n",
    "\n",
    "api_key = \"1aNDMMoPtTC3uW3sjjhguyvrv\"\n",
    "api_secret = \"irreBBD7fMyqClXP6PcWO9iz0zLVGozW7NMtcVL6bjOTvmNK41\"\n",
    "access_token = \"776426912914743296-dk8wTjrUJvFsmwGO1C1hKlSJkqgVspF\"\n",
    "access_token_secret = \"E2wtd58uNQVWABM1MzLgQPlmh0NnxQ9W0YopXjHjZIicO\""
   ]
  },
  {
   "cell_type": "code",
   "execution_count": 2,
   "metadata": {},
   "outputs": [],
   "source": [
    "auth = tweepy.OAuthHandler(api_key, api_secret)\n",
    "auth.set_access_token(access_token, access_token_secret)\n",
    "api = tweepy.API(auth)"
   ]
  },
  {
   "cell_type": "code",
   "execution_count": 3,
   "metadata": {},
   "outputs": [],
   "source": [
    "tweets = api.user_timeline()"
   ]
  },
  {
   "cell_type": "code",
   "execution_count": 4,
   "metadata": {},
   "outputs": [
    {
     "name": "stdout",
     "output_type": "stream",
     "text": [
      "RT @Miguel_es_guapo: #nhs8apes2016 #flatlorax #invasivespecies Found this buckthorn in my yard.Wisconsin DNR recognizes these badboys as an…\n",
      "\n",
      "El padre y hijo está caminando a la ciudad detrás de el cerro. #nooyes  @TamraAHugoSoto\n",
      "\n",
      "Yo estudio el vocabulario!!! https://t.co/Zb6IXY2Wvh\n",
      "\n",
      "Hola te amo señora español es mi vida! @TamraAHugoSoto\n",
      "\n",
      "@TamraAHugoSoto\n",
      "\n",
      "Lencho no tiene confianza con los carteros. No está satisfecho porque dios no contesta Lencho. Jajajajajajajjajajajajajajajajajajajajajjajaa\n",
      "\n"
     ]
    }
   ],
   "source": [
    "for t in tweets:\n",
    "    print(t.text + '\\n')"
   ]
  },
  {
   "cell_type": "code",
   "execution_count": 5,
   "metadata": {},
   "outputs": [
    {
     "name": "stdout",
     "output_type": "stream",
     "text": [
      "b'{\"title\":\"Unauthorized\",\"type\":\"about:blank\",\"status\":401,\"detail\":\"Unauthorized\"}'\n"
     ]
    }
   ],
   "source": [
    "import requests\n",
    "\n",
    "url = \"https://api.twitter.com/2/tweets/1275828087666679809?tweet.fields=attachments,author_id,created_at,entities,geo,id,in_reply_to_user_id,lang,possibly_sensitive,referenced_tweets,source,text,withheld\"\n",
    "\n",
    "payload = {}\n",
    "headers= {}\n",
    "\n",
    "response = requests.request(\"GET\", url, headers=headers, data = payload)\n",
    "\n",
    "print(response.text.encode('utf8'))"
   ]
  },
  {
   "cell_type": "code",
   "execution_count": 7,
   "metadata": {},
   "outputs": [
    {
     "data": {
      "text/plain": [
       "['RT @Aras19O3: @drfahrettinkoca Ben size %100 katılıyorum Sayın Bakanım. Yok öyle bedavadan covid-19 sayılmak. Testi pozitif çıkanlara sınav…',\n",
       " 'Nueva putada: que uno de tu clase de positivo en covid y tengas que estar dos semanas en cuarentena',\n",
       " 'RT @gigiesguerra: grabe Top 20 na tayo sa covid billboard charts https://t.co/xp5tgl0uiP',\n",
       " 'C’est pas je chope un petit rhume donc sytème immunitaire plus fragile donc covid qui va peut-être rentrer dans mon… https://t.co/wfZpy7TwmZ',\n",
       " 'RT @SkyNewsBreak: SNP Westminster leader Ian Blackford has suspended the whip from MP Margaret Ferrier after she apologised for breaching C…',\n",
       " 'RT @fervarelahn: Huyen de la pesadilla. Corren con todas las fuerzas,desesperados.\\n\\nAhí hay covid, hambre,frío,hasta riesgo de muerte, y aú…',\n",
       " 'RT @HaddadDebochado: 23:59 - “ACABOU A MAMATA DAS ONGs, NUNCA MAIS VÃO RECEBER DINHEIRO PÚBLICO”.\\n\\n00:00 - JAIR BOLSONARO DESVIA DOAÇÃO DE…',\n",
       " 'RT @RickLeventhal: COVID-19 SURVIVAL RATES (per CDC):\\nAges 0-19:     99.997%\\nAges 20-49:  99.98%\\nAges 50-69:  99.5%\\nAges 70+:       94.6%',\n",
       " 'RT @tumbukrusuk: Ada orang mati tau sebab covid. Ada orang hilang bapa, anak, suami, isteri, ibu, dan ahli keluarga lain, sebab covid.\\n\\nDat…',\n",
       " 'Coronavirus: SNP MP Margaret Ferrier apologises for travelling on public transport after positive COVID-19 test… https://t.co/CpdV9MLTYq']"
      ]
     },
     "execution_count": 7,
     "metadata": {},
     "output_type": "execute_result"
    }
   ],
   "source": [
    "results = []\n",
    "#Get the first 1000 items based on the search query and store it\n",
    "for tweet in tweepy.Cursor(api.search, q='Covid').items(10):\n",
    "    results.append(tweet.text)\n",
    "results"
   ]
  },
  {
   "cell_type": "code",
   "execution_count": 81,
   "metadata": {},
   "outputs": [],
   "source": [
    "def extract(page_no):\n",
    "    result = []\n",
    "    i = 0\n",
    "    while (i <= page_no):\n",
    "        y = api.user_timeline(\"@realdonaldtrump\", page =i)\n",
    "        for tweet in y:\n",
    "            result.append(tweet.text)\n",
    "        i = i +1 \n",
    "        time.sleep(5)\n",
    "    return result\n"
   ]
  },
  {
   "cell_type": "code",
   "execution_count": 83,
   "metadata": {},
   "outputs": [
    {
     "data": {
      "text/plain": [
       "['Why would I allow the Debate Commission to change the rules for the second and third Debates when I easily won last time?',\n",
       " 'I won the debate big, based on compilation of polls etc. Thank you!',\n",
       " 'Thank you @HerschelWalker! \\nhttps://t.co/XjlYe8x1Ay',\n",
       " 'RT @GOPChairwoman: Big news!\\n\\nA Maine court sided with the RNC and upheld the: \\n\\n*Ban on ballot harvesting\\n*Voter ID requirements\\n*Election…',\n",
       " 'Thank you Paul! https://t.co/aAk1sfww0d',\n",
       " '100,000 DEFECTIVE BALLOTS IN NEW YORK. THEY WANT TO REPLACE THEM, BUT WHERE, AND WHAT HAPPENS TO, THE BALLOTS THAT… https://t.co/nVWfklnB5F',\n",
       " 'In just 3 and a half years, we have secured America’s Borders, rebuilt the awesome power of the U.S. Military, obli… https://t.co/JOGCmoAwaU',\n",
       " 'As VP, Biden wiped out the Iron Range – seven plants were idled and more than 2K workers were laid off. After I put… https://t.co/gPV9gQ4Yv6',\n",
       " 'I want to defend &amp; preserve our nation’s historic values. Our opponents stand with rioters – I stand with the heroe… https://t.co/IkNPWTWdSd',\n",
       " 'Comey is a disaster who cheated and lied. How do you write books when you can’t remember anything? Should be tried… https://t.co/kWFKrV0e5M',\n",
       " 'Last night I did what the corrupt media has refused to do: I held Joe Biden Accountable for his 47 years of lies, 4… https://t.co/1D3jCPofbw',\n",
       " 'Thank you Duluth, Minnesota! \\nhttps://t.co/OY9Ki05WHb',\n",
       " 'RT @paulsperry_: all this memory loss and out-of-the-loop i dunnos is strange for a guy who took copious notes after playing a case agent s…',\n",
       " 'So when will something significant happen to James Comey? Got caught cold. He is either very dumb, or one of the wo… https://t.co/i6BnuG1k4L',\n",
       " 'RT @LindseyGrahamSC: Great news for South Carolina and a compliment to the @weareboeingsc workforce!\\n\\nThis would never have come to pass ha…',\n",
       " 'Sleepy Joe’s USA! https://t.co/qL0vHoGk0z',\n",
       " 'RT @realDonaldTrump: HIGHEST CABLE TELEVISION RATINGS OF ALL TIME. SECOND HIGHEST OVERALL TELEVISION RATINGS OF ALL TIME. Some day these Fa…',\n",
       " 'RT @realDonaldTrump: Just landed in Minnesota. Hasn’t been won by a Republican since 1972, and we saved Minneapolis. Also opened the massiv…',\n",
       " 'RT @DanScavino: #Elections2020 #MAGA🇺🇸🦅\\nhttps://t.co/T2MirCw7ZL',\n",
       " 'Leaving Minneapolis for a quick stop in Duluth to celebrate the opening of the Obama CLOSED Iron Range. My great honor!!!',\n",
       " 'Why would I allow the Debate Commission to change the rules for the second and third Debates when I easily won last time?',\n",
       " 'I won the debate big, based on compilation of polls etc. Thank you!',\n",
       " 'Thank you @HerschelWalker! \\nhttps://t.co/XjlYe8x1Ay',\n",
       " 'RT @GOPChairwoman: Big news!\\n\\nA Maine court sided with the RNC and upheld the: \\n\\n*Ban on ballot harvesting\\n*Voter ID requirements\\n*Election…',\n",
       " 'Thank you Paul! https://t.co/aAk1sfww0d',\n",
       " '100,000 DEFECTIVE BALLOTS IN NEW YORK. THEY WANT TO REPLACE THEM, BUT WHERE, AND WHAT HAPPENS TO, THE BALLOTS THAT… https://t.co/nVWfklnB5F',\n",
       " 'In just 3 and a half years, we have secured America’s Borders, rebuilt the awesome power of the U.S. Military, obli… https://t.co/JOGCmoAwaU',\n",
       " 'As VP, Biden wiped out the Iron Range – seven plants were idled and more than 2K workers were laid off. After I put… https://t.co/gPV9gQ4Yv6',\n",
       " 'I want to defend &amp; preserve our nation’s historic values. Our opponents stand with rioters – I stand with the heroe… https://t.co/IkNPWTWdSd',\n",
       " 'Comey is a disaster who cheated and lied. How do you write books when you can’t remember anything? Should be tried… https://t.co/kWFKrV0e5M',\n",
       " 'Last night I did what the corrupt media has refused to do: I held Joe Biden Accountable for his 47 years of lies, 4… https://t.co/1D3jCPofbw',\n",
       " 'Thank you Duluth, Minnesota! \\nhttps://t.co/OY9Ki05WHb',\n",
       " 'RT @paulsperry_: all this memory loss and out-of-the-loop i dunnos is strange for a guy who took copious notes after playing a case agent s…',\n",
       " 'So when will something significant happen to James Comey? Got caught cold. He is either very dumb, or one of the wo… https://t.co/i6BnuG1k4L',\n",
       " 'RT @LindseyGrahamSC: Great news for South Carolina and a compliment to the @weareboeingsc workforce!\\n\\nThis would never have come to pass ha…',\n",
       " 'Sleepy Joe’s USA! https://t.co/qL0vHoGk0z',\n",
       " 'RT @realDonaldTrump: HIGHEST CABLE TELEVISION RATINGS OF ALL TIME. SECOND HIGHEST OVERALL TELEVISION RATINGS OF ALL TIME. Some day these Fa…',\n",
       " 'RT @realDonaldTrump: Just landed in Minnesota. Hasn’t been won by a Republican since 1972, and we saved Minneapolis. Also opened the massiv…',\n",
       " 'RT @DanScavino: #Elections2020 #MAGA🇺🇸🦅\\nhttps://t.co/T2MirCw7ZL',\n",
       " 'Leaving Minneapolis for a quick stop in Duluth to celebrate the opening of the Obama CLOSED Iron Range. My great honor!!!']"
      ]
     },
     "execution_count": 83,
     "metadata": {},
     "output_type": "execute_result"
    }
   ],
   "source": [
    "extract(1)"
   ]
  },
  {
   "cell_type": "code",
   "execution_count": 84,
   "metadata": {},
   "outputs": [
    {
     "data": {
      "text/plain": [
       "['Why would I allow the Debate Commission to change the rules for the second and third Debates when I easily won last time?',\n",
       " 'I won the debate big, based on compilation of polls etc. Thank you!',\n",
       " 'Thank you @HerschelWalker! \\nhttps://t.co/XjlYe8x1Ay',\n",
       " 'RT @GOPChairwoman: Big news!\\n\\nA Maine court sided with the RNC and upheld the: \\n\\n*Ban on ballot harvesting\\n*Voter ID requirements\\n*Election…',\n",
       " 'Thank you Paul! https://t.co/aAk1sfww0d',\n",
       " '100,000 DEFECTIVE BALLOTS IN NEW YORK. THEY WANT TO REPLACE THEM, BUT WHERE, AND WHAT HAPPENS TO, THE BALLOTS THAT… https://t.co/nVWfklnB5F',\n",
       " 'In just 3 and a half years, we have secured America’s Borders, rebuilt the awesome power of the U.S. Military, obli… https://t.co/JOGCmoAwaU',\n",
       " 'As VP, Biden wiped out the Iron Range – seven plants were idled and more than 2K workers were laid off. After I put… https://t.co/gPV9gQ4Yv6',\n",
       " 'I want to defend &amp; preserve our nation’s historic values. Our opponents stand with rioters – I stand with the heroe… https://t.co/IkNPWTWdSd',\n",
       " 'Comey is a disaster who cheated and lied. How do you write books when you can’t remember anything? Should be tried… https://t.co/kWFKrV0e5M',\n",
       " 'Last night I did what the corrupt media has refused to do: I held Joe Biden Accountable for his 47 years of lies, 4… https://t.co/1D3jCPofbw',\n",
       " 'Thank you Duluth, Minnesota! \\nhttps://t.co/OY9Ki05WHb',\n",
       " 'RT @paulsperry_: all this memory loss and out-of-the-loop i dunnos is strange for a guy who took copious notes after playing a case agent s…',\n",
       " 'So when will something significant happen to James Comey? Got caught cold. He is either very dumb, or one of the wo… https://t.co/i6BnuG1k4L',\n",
       " 'RT @LindseyGrahamSC: Great news for South Carolina and a compliment to the @weareboeingsc workforce!\\n\\nThis would never have come to pass ha…',\n",
       " 'Sleepy Joe’s USA! https://t.co/qL0vHoGk0z',\n",
       " 'RT @realDonaldTrump: HIGHEST CABLE TELEVISION RATINGS OF ALL TIME. SECOND HIGHEST OVERALL TELEVISION RATINGS OF ALL TIME. Some day these Fa…',\n",
       " 'RT @realDonaldTrump: Just landed in Minnesota. Hasn’t been won by a Republican since 1972, and we saved Minneapolis. Also opened the massiv…',\n",
       " 'RT @DanScavino: #Elections2020 #MAGA🇺🇸🦅\\nhttps://t.co/T2MirCw7ZL',\n",
       " 'Leaving Minneapolis for a quick stop in Duluth to celebrate the opening of the Obama CLOSED Iron Range. My great honor!!!',\n",
       " 'Why would I allow the Debate Commission to change the rules for the second and third Debates when I easily won last time?',\n",
       " 'I won the debate big, based on compilation of polls etc. Thank you!',\n",
       " 'Thank you @HerschelWalker! \\nhttps://t.co/XjlYe8x1Ay',\n",
       " 'RT @GOPChairwoman: Big news!\\n\\nA Maine court sided with the RNC and upheld the: \\n\\n*Ban on ballot harvesting\\n*Voter ID requirements\\n*Election…',\n",
       " 'Thank you Paul! https://t.co/aAk1sfww0d',\n",
       " '100,000 DEFECTIVE BALLOTS IN NEW YORK. THEY WANT TO REPLACE THEM, BUT WHERE, AND WHAT HAPPENS TO, THE BALLOTS THAT… https://t.co/nVWfklnB5F',\n",
       " 'In just 3 and a half years, we have secured America’s Borders, rebuilt the awesome power of the U.S. Military, obli… https://t.co/JOGCmoAwaU',\n",
       " 'As VP, Biden wiped out the Iron Range – seven plants were idled and more than 2K workers were laid off. After I put… https://t.co/gPV9gQ4Yv6',\n",
       " 'I want to defend &amp; preserve our nation’s historic values. Our opponents stand with rioters – I stand with the heroe… https://t.co/IkNPWTWdSd',\n",
       " 'Comey is a disaster who cheated and lied. How do you write books when you can’t remember anything? Should be tried… https://t.co/kWFKrV0e5M',\n",
       " 'Last night I did what the corrupt media has refused to do: I held Joe Biden Accountable for his 47 years of lies, 4… https://t.co/1D3jCPofbw',\n",
       " 'Thank you Duluth, Minnesota! \\nhttps://t.co/OY9Ki05WHb',\n",
       " 'RT @paulsperry_: all this memory loss and out-of-the-loop i dunnos is strange for a guy who took copious notes after playing a case agent s…',\n",
       " 'So when will something significant happen to James Comey? Got caught cold. He is either very dumb, or one of the wo… https://t.co/i6BnuG1k4L',\n",
       " 'RT @LindseyGrahamSC: Great news for South Carolina and a compliment to the @weareboeingsc workforce!\\n\\nThis would never have come to pass ha…',\n",
       " 'Sleepy Joe’s USA! https://t.co/qL0vHoGk0z',\n",
       " 'RT @realDonaldTrump: HIGHEST CABLE TELEVISION RATINGS OF ALL TIME. SECOND HIGHEST OVERALL TELEVISION RATINGS OF ALL TIME. Some day these Fa…',\n",
       " 'RT @realDonaldTrump: Just landed in Minnesota. Hasn’t been won by a Republican since 1972, and we saved Minneapolis. Also opened the massiv…',\n",
       " 'RT @DanScavino: #Elections2020 #MAGA🇺🇸🦅\\nhttps://t.co/T2MirCw7ZL',\n",
       " 'Leaving Minneapolis for a quick stop in Duluth to celebrate the opening of the Obama CLOSED Iron Range. My great honor!!!',\n",
       " 'Just landed in Minnesota. Hasn’t been won by a Republican since 1972, and we saved Minneapolis. Also opened the mas… https://t.co/MSTMmwRv0q',\n",
       " 'HIGHEST CABLE TELEVISION RATINGS OF ALL TIME. SECOND HIGHEST OVERALL TELEVISION RATINGS OF ALL TIME. Some day these… https://t.co/pRXt9G5cRH',\n",
       " 'So weird to watch @FoxNews interviewing only failed Dems, like Represenative Tim Ryan of Ohio, who got zero percent… https://t.co/I0nYbMwaah',\n",
       " 'Just departed the White House for Minnesota! #MAGA https://t.co/nAdxls0z8C',\n",
       " 'Thank you! https://t.co/KVayfCydRd',\n",
       " 'https://t.co/Zm6Lqzgppq',\n",
       " 'https://t.co/V3jQCWm9uJ',\n",
       " 'RT @GroverNorquist: Joe Biden will raise taxes on people making under $400,000. \\nYou do not want to believe that?Watch Biden say it himself…',\n",
       " 'RT @GroverNorquist: Video: Yes, Biden will ban fracking.\\nHe admits it on camera https://t.co/8b8xIoIKQV',\n",
       " 'Thank you Ari! https://t.co/ghPg3w2jmc',\n",
       " 'https://t.co/gsFSgh2KPc',\n",
       " 'No wonder I didn’t lose my hair! https://t.co/jBFE2OEhS2',\n",
       " 'Try getting a new Anchor and a smarter Democrat candidate! https://t.co/B9heSVV1OJ',\n",
       " \"RT @paulsperry_: All of these FBI, CIA &amp; DOJ crooks are running out the clock until Nov. 3, while doing everything they can to boost Biden'…\",\n",
       " 'https://t.co/ZrGsTKv78v',\n",
       " \"RT @paulsperry_: Comey refutes Senators' assertion he spied on Trump, when in fact he sent Pientka to surveil Trump at a security briefing…\",\n",
       " 'RT @paulsperry_: We are in a stunningly bizarre situation where we have a candidate who was the vice president of an administration which 6…',\n",
       " 'RT @paulsperry_: Sen. Cruz to Comey: \"You were deliberately corrupt or woefully incompetent, and I don\\'t believe you were incompetent.\"',\n",
       " 'Should be arrested on the spot! https://t.co/x81s8npZEF',\n",
       " 'RT @paulsperry_: Debuting next month: \"The Plot Against the President\"\\n\\nWatch the trailer ...\\n\\nhttps://t.co/QuVpFgZm1d']"
      ]
     },
     "execution_count": 84,
     "metadata": {},
     "output_type": "execute_result"
    }
   ],
   "source": [
    "extract(2)"
   ]
  },
  {
   "cell_type": "code",
   "execution_count": null,
   "metadata": {},
   "outputs": [],
   "source": []
  },
  {
   "cell_type": "code",
   "execution_count": null,
   "metadata": {},
   "outputs": [],
   "source": []
  }
 ],
 "metadata": {
  "kernelspec": {
   "display_name": "Python 3",
   "language": "python",
   "name": "python3"
  },
  "language_info": {
   "codemirror_mode": {
    "name": "ipython",
    "version": 3
   },
   "file_extension": ".py",
   "mimetype": "text/x-python",
   "name": "python",
   "nbconvert_exporter": "python",
   "pygments_lexer": "ipython3",
   "version": "3.7.4"
  }
 },
 "nbformat": 4,
 "nbformat_minor": 4
}
