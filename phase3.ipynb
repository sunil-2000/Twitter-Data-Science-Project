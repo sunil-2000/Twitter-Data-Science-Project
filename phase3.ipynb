{
 "cells": [
  {
   "cell_type": "markdown",
   "metadata": {},
   "source": [
    "# Analyses we will conduct :\n",
    "* ## Analysis 1: Cluster analysis of time of day vs number of likes \n",
    "* ## Analysis 2: Comparison of tweets over time"
   ]
  },
  {
   "cell_type": "markdown",
   "metadata": {},
   "source": [
    "### Revisited Research Question for Revision: \n",
    "* Original research question: How do Biden’s or Trump’s tweets change, as the election develops, in terms of the length of the tweet, the number of favorites the tweet receives, the number of retweets the tweets have, the sentiment of each tweet, or any other data points about each tweet changes?\n",
    "* We wanted to do a cluster analysis comparing time of day against the number of likes a tweet has (that does not have much to do with the election, more of a comparison between the Twitter activity of Trump and Biden), which is why we want to revise the research question a little bit. \n",
    "* Revised research question: How does the Twitter activity of Biden and Trump differ?\n",
    "    * We find that this research question allows us to compare twitter activity generally and in the context of the election. "
   ]
  },
  {
   "cell_type": "markdown",
   "metadata": {},
   "source": [
    "### Analysis 1\n",
    "* This cluster analysis will potentially reveal that certain times receive more likes.\n",
    "* Potentially, determine which times of day are most advantageous to send tweets.\n",
    "* Additionally, voters’ interactions on twitter may not be generalized to general social media use.\n",
    "\n",
    "### Analysis 2\n",
    "* Compare twitter activity as election nears\n",
    "    * Frequency of tweets over time\n",
    "    * Likes of tweets over time\n",
    "    * Retweets of tweets over time\n",
    "    * Changes in number of words of tweets over time\n",
    "* Can possibly use this analysis to show when the presidential race gets most competitive\n"
   ]
  },
  {
   "cell_type": "markdown",
   "metadata": {},
   "source": [
    "### Optional Analysis\n",
    "* Use regex matching to extract most popular words from tweets (excluding articles, and common words).\n",
    "* Filter dataframe to only include tweets with keywords -> logistic regression to predict keywords to amount of likes\n",
    "* Prediction model potentially using logistic regression:\n",
    "    * Get list of top keywords -> generate indicator variables (pd.dummies method) -> create logistic model that predicts amount of likes \n",
    "    * Potentially interesting analysis, but we anticipate that the analysis is not significant\n"
   ]
  },
  {
   "cell_type": "markdown",
   "metadata": {},
   "source": [
    "### Questions for Reviewers\n",
    "* How feasible is the optional analysis? Do you think we should do the optional analysis? \n",
    "* Do you think using NLP for sentiment analysis will be feasible on this dataset?\n",
    "    * If not, would it be feasible if we manually sentiment-code the most frequent keywords of each candidate?\n",
    "* What do you think of our “new” research question? (very similar to the original research question) "
   ]
  }
 ],
 "metadata": {
  "kernelspec": {
   "display_name": "Python 3",
   "language": "python",
   "name": "python3"
  },
  "language_info": {
   "codemirror_mode": {
    "name": "ipython",
    "version": 3
   },
   "file_extension": ".py",
   "mimetype": "text/x-python",
   "name": "python",
   "nbconvert_exporter": "python",
   "pygments_lexer": "ipython3",
   "version": "3.7.4"
  }
 },
 "nbformat": 4,
 "nbformat_minor": 4
}
