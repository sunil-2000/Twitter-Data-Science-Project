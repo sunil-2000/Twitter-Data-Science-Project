{
 "cells": [
  {
   "cell_type": "markdown",
   "metadata": {},
   "source": [
    "# Biden Tweets Collection and Exploratory Analysis"
   ]
  },
  {
   "cell_type": "markdown",
   "metadata": {},
   "source": [
    "## Loading Biden's Tweets"
   ]
  },
  {
   "cell_type": "code",
   "execution_count": null,
   "metadata": {},
   "outputs": [],
   "source": [
    "## load libraries\n",
    "import pandas as pd\n",
    "import numpy as np\n",
    "import matplotlib.pyplot as plt\n",
    "import statistics\n",
    "import nltk\n",
    "nltk.download('punkt')"
   ]
  },
  {
   "cell_type": "code",
   "execution_count": null,
   "metadata": {},
   "outputs": [],
   "source": [
    "def tokenize(phrase):\n",
    "    '''\n",
    "    Returns an array of individual words in the string phrase\n",
    "    phrase: The string to be tokenized\n",
    "    '''\n",
    "    tokens = nltk.word_tokenize(phrase)\n",
    "    return tokens"
   ]
  },
  {
   "cell_type": "code",
   "execution_count": null,
   "metadata": {},
   "outputs": [],
   "source": [
    "# Load Biden's tweets\n",
    "biden_tweets = pd.read_csv(\"biden_tweets.csv\")\n",
    "number_of_biden_tweets = len(biden_tweets.index) #Number of tweets we collected\n",
    "print(biden_tweets.head())\n",
    "print(\"Number of tweets: \" + str(number_of_biden_tweets))"
   ]
  },
  {
   "cell_type": "markdown",
   "metadata": {},
   "source": [
    "## Summary Statistics for Selected Variables"
   ]
  },
  {
   "cell_type": "code",
   "execution_count": null,
   "metadata": {},
   "outputs": [],
   "source": [
    "# Summary stats for the \"full_text\" column\n",
    "biden_total_words = 0 # The number of words Biden used across all the Tweets we collected\n",
    "biden_word_counts_list = [] # A list of the word count for each tweet\n",
    "for tweet in biden_tweets[\"full_text\"]:\n",
    "    tweet_length = len(tokenize(tweet))\n",
    "    biden_word_counts_list.append(tweet_length)                 \n",
    "    biden_total_words += tweet_length\n",
    "print(\"Biden words tweeted: \" + str(biden_total_words))\n",
    "biden_mean_wordcount = np.mean(biden_word_counts_list)\n",
    "print(\"Mean number of words in Biden tweets: \" + str(biden_mean_wordcount))\n",
    "biden_median_wordcount = np.median(biden_word_counts_list)\n",
    "print(\"Median number of words in Biden tweets: \" + str(biden_median_wordcount))\n",
    "biden_mode_wordcount = statistics.mode(biden_word_counts_list)\n",
    "print(\"Mode number of words in Biden tweets: \" + str(biden_mode_wordcount))\n",
    "biden_minimum_words = min(biden_word_counts_list)\n",
    "print(\"The least number of words Biden used in a tweet was: \" + str(biden_minimum_words))\n",
    "biden_maximum_words = max(biden_word_counts_list)\n",
    "print(\"The most number of words Biden used in a tweet was: \" + str(biden_maximum_words))\n",
    "biden_stddev_wordcount = np.std(biden_word_counts_list)\n",
    "print(\"Standard deviation of number of words in Biden tweets: \" + str(biden_stddev_wordcount))"
   ]
  },
  {
   "cell_type": "code",
   "execution_count": null,
   "metadata": {},
   "outputs": [],
   "source": [
    "# Summary stats for the \"favourite\" column\n",
    "biden_favorites = biden_tweets[\"favourite\"]\n",
    "biden_total_favorites = biden_favorites.sum()\n",
    "print(\"Biden tweet favorites: \" + str(biden_total_favorites))\n",
    "biden_mean_favorites = np.mean(biden_favorites)\n",
    "print(\"Mean number of favorites for Biden tweets: \" + str(biden_mean_favorites))\n",
    "biden_median_favorites = np.median(biden_favorites)\n",
    "print(\"Median number of favorites for Biden tweets: \" + str(biden_median_favorites))\n",
    "# Mode may not be meaningful due to the wide range between the minimum and maximum number of favorites\n",
    "# biden_mode_favorites = statistics.mode(biden_favorites)\n",
    "# print(\"Mode number of favorites in each Biden tweet: \" + str(biden_mode_favorites))\n",
    "biden_minimum_favorites = min(biden_favorites)\n",
    "print(\"The least number of favorites a Biden tweet received was: \" + str(biden_minimum_favorites))\n",
    "biden_maximum_favorites = max(biden_favorites)\n",
    "print(\"The most number of favorites a Biden tweet received was: \" + str(biden_maximum_favorites))\n",
    "biden_stddev_favorites = np.std(biden_favorites)\n",
    "print(\"Standard deviation of number of retweets for Biden tweets: \" + str(biden_stddev_favorites))"
   ]
  },
  {
   "cell_type": "code",
   "execution_count": null,
   "metadata": {},
   "outputs": [],
   "source": [
    "# Summary stats for the \"retweets\" column\n",
    "biden_retweets = biden_tweets[\"retweets\"]\n",
    "biden_total_retweets = biden_retweets.sum()\n",
    "print(\"Biden retweets: \" + str(biden_total_retweets))\n",
    "biden_mean_retweets = np.mean(biden_retweets)\n",
    "print(\"Mean number of retweets for Biden tweets: \" + str(biden_mean_retweets))\n",
    "biden_median_retweets = np.median(biden_retweets)\n",
    "print(\"Median number of retweets for Biden tweets: \" + str(biden_median_retweets))\n",
    "# Mode may not be meaningful due to the wide range between the minimum and maximum number of retweets\n",
    "# biden_mode_retweets = statistics.mode(biden_retweets)\n",
    "# print(\"Mode number of retweets in each Biden tweet: \" + str(biden_mode_retweets))\n",
    "biden_minimum_retweets = min(biden_retweets)\n",
    "print(\"The least number of retweets a Biden tweet received was: \" + str(biden_minimum_retweets))\n",
    "biden_maximum_retweets = max(biden_retweets)\n",
    "print(\"The most number of retweets a Biden tweet received was: \" + str(biden_maximum_retweets))\n",
    "biden_stddev_retweets = np.std(biden_retweets)\n",
    "print(\"Standard deviation of number of retweets for each Biden tweet: \" + str(biden_stddev_retweets))"
   ]
  },
  {
   "cell_type": "code",
   "execution_count": null,
   "metadata": {
    "scrolled": true
   },
   "outputs": [],
   "source": [
    "# Statistics for \"language\" column\n",
    "\n",
    "print(\"Raw number of tweets in each language: \" + \"\\n\" + str(biden_tweets[\"language\"].value_counts()))\n",
    "print(\"Fraction of tweets in each language: \" + \"\\n\" + str(biden_tweets[\"language\"].value_counts() / \n",
    "    number_of_biden_tweets)) # Percentage breakdown of each language\n",
    "\n"
   ]
  },
  {
   "cell_type": "markdown",
   "metadata": {},
   "source": [
    "Thoughts: The sample size for tweets in languages other than english is likely too small to make any meaningful conclusions about those tweets"
   ]
  },
  {
   "cell_type": "markdown",
   "metadata": {},
   "source": [
    "## Distributions of Variables"
   ]
  },
  {
   "cell_type": "markdown",
   "metadata": {},
   "source": [
    "### Histograms"
   ]
  },
  {
   "cell_type": "code",
   "execution_count": null,
   "metadata": {},
   "outputs": [],
   "source": [
    "# Number of words\n",
    "\n",
    "plt.hist(biden_word_counts_list)\n",
    "plt.title(\"Distribution of Number of Words in Biden Tweets\")\n",
    "plt.xlabel(\"Number of Words\")"
   ]
  },
  {
   "cell_type": "code",
   "execution_count": null,
   "metadata": {},
   "outputs": [],
   "source": [
    "# Favorites\n",
    "\n",
    "plt.hist(biden_favorites)\n",
    "plt.title(\"Distribution of Number of Favorites for Biden Tweets\")\n",
    "plt.xlabel(\"Favorites\")"
   ]
  },
  {
   "cell_type": "code",
   "execution_count": null,
   "metadata": {},
   "outputs": [],
   "source": [
    "# Retweets\n",
    "\n",
    "plt.hist(biden_retweets)\n",
    "plt.title(\"Distribution of Number of Retweets for Each Biden Tweet\")\n",
    "plt.xlabel(\"Number of Retweets\")"
   ]
  },
  {
   "cell_type": "markdown",
   "metadata": {},
   "source": [
    "### Boxplots"
   ]
  },
  {
   "cell_type": "code",
   "execution_count": null,
   "metadata": {},
   "outputs": [],
   "source": [
    "# Number of Words\n",
    "\n",
    "plt.boxplot(biden_word_counts_list)\n",
    "plt.title(\"Distribution of Number of Words in Biden Tweets\")\n",
    "plt.ylabel(\"Number of Words\")"
   ]
  },
  {
   "cell_type": "code",
   "execution_count": null,
   "metadata": {},
   "outputs": [],
   "source": [
    "# Favorites\n",
    "\n",
    "plt.boxplot(biden_favorites)\n",
    "plt.title(\"Distribution of Number of Favorites for Biden Tweets\")\n",
    "plt.ylabel(\"Number of Words\")"
   ]
  },
  {
   "cell_type": "code",
   "execution_count": null,
   "metadata": {},
   "outputs": [],
   "source": [
    "# Retweets\n",
    "\n",
    "plt.boxplot(biden_retweets)\n",
    "plt.title(\"Distribution of Number of Retweets for Each Biden Tweet\")\n",
    "plt.ylabel(\"Number of Retweets\")"
   ]
  },
  {
   "cell_type": "markdown",
   "metadata": {},
   "source": [
    "### Plotting Multiple Variables Together"
   ]
  },
  {
   "cell_type": "code",
   "execution_count": null,
   "metadata": {},
   "outputs": [],
   "source": [
    "# Number of Words vs. Favorites\n",
    "\n",
    "plt.scatter(x = biden_word_counts_list, y = biden_favorites, alpha = 0.6)\n",
    "plt.title(\"Number of Words vs. Favorites for Biden Tweets\")\n",
    "plt.xlabel(\"Number of Words\")"
   ]
  },
  {
   "cell_type": "code",
   "execution_count": null,
   "metadata": {},
   "outputs": [],
   "source": [
    "# Number of Words vs. Retweets\n",
    "\n",
    "plt.scatter(x = biden_word_counts_list, y = biden_retweets, alpha = 0.6)\n",
    "plt.title(\"Number of Words vs. Retweets for Biden Tweets\")\n",
    "plt.xlabel(\"Number of Words in Tweet\")"
   ]
  },
  {
   "cell_type": "code",
   "execution_count": null,
   "metadata": {},
   "outputs": [],
   "source": [
    "# Number of Favorites vs. Retweets for Biden Tweets\n",
    "\n",
    "plt.scatter(x = biden_favorites, y = biden_retweets, alpha = 0.6)\n",
    "plt.title(\"Number of Favorites vs. Retweets for Biden Tweets\")\n",
    "plt.xlabel(\"Number of Words in Tweet\")"
   ]
  },
  {
   "cell_type": "code",
   "execution_count": null,
   "metadata": {},
   "outputs": [],
   "source": []
  }
 ],
 "metadata": {
  "kernelspec": {
   "display_name": "Python 3",
   "language": "python",
   "name": "python3"
  },
  "language_info": {
   "codemirror_mode": {
    "name": "ipython",
    "version": 3
   },
   "file_extension": ".py",
   "mimetype": "text/x-python",
   "name": "python",
   "nbconvert_exporter": "python",
   "pygments_lexer": "ipython3",
   "version": "3.8.3"
  }
 },
 "nbformat": 4,
 "nbformat_minor": 4
}
