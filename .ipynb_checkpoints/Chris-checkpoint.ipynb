{
 "cells": [
  {
   "cell_type": "code",
   "execution_count": 2,
   "metadata": {},
   "outputs": [
    {
     "name": "stderr",
     "output_type": "stream",
     "text": [
      "[nltk_data] Downloading package punkt to /Users/chris0519/nltk_data...\n",
      "[nltk_data]   Package punkt is already up-to-date!\n"
     ]
    }
   ],
   "source": [
    "import pandas as pd\n",
    "import numpy as np\n",
    "import matplotlib.pyplot as plt\n",
    "import math\n",
    "import statistics\n",
    "import nltk\n",
    "nltk.download('punkt')\n",
    "\n",
    "trump_tweets = pd.read_csv(\"trump_tweets.csv\")"
   ]
  },
  {
   "cell_type": "code",
   "execution_count": 3,
   "metadata": {},
   "outputs": [],
   "source": [
    "def tokenize(phrase):\n",
    "    '''\n",
    "    Returns an array of individual words in the string phrase\n",
    "    phrase: The string to be tokenized\n",
    "    '''\n",
    "    tokens = nltk.word_tokenize(phrase)\n",
    "    return tokens"
   ]
  },
  {
   "cell_type": "code",
   "execution_count": 5,
   "metadata": {
    "scrolled": true
   },
   "outputs": [
    {
     "name": "stdout",
     "output_type": "stream",
     "text": [
      "      Unnamed: 0                   id  \\\n",
      "0              0  1314035056441257985   \n",
      "1              1  1314033009293656065   \n",
      "2              2  1314028978806624256   \n",
      "3              3  1314028699084259329   \n",
      "4              4  1314027975185182721   \n",
      "...          ...                  ...   \n",
      "1602        1602  1281932578048614402   \n",
      "1603        1603  1281930300960976897   \n",
      "1604        1604  1281928087324721154   \n",
      "1605        1605  1281927670637432834   \n",
      "1606        1606  1281927265589309441   \n",
      "\n",
      "                                              full_text  \\\n",
      "0                               https://t.co/wHQx2qd8q2   \n",
      "1     2010 to 2016 under Kamala Harris's watch as \"T...   \n",
      "2       https://t.co/4Wv5cCFEns https://t.co/kMvBv6Pu9I   \n",
      "3                               https://t.co/rxqPqR4uqZ   \n",
      "4                               https://t.co/xGevgI2wTO   \n",
      "...                                                 ...   \n",
      "1602  New documents just released reveal General Fly...   \n",
      "1603  Big Senate Race in Alabama on Tuesday. Vote fo...   \n",
      "1604       Bring back Steele!!! https://t.co/jL5c8WF28Z   \n",
      "1605                   So cute! https://t.co/L5spCDYiyg   \n",
      "1606  Roger Stone was targeted by an illegal Witch H...   \n",
      "\n",
      "                                               entities           created_at  \\\n",
      "0     {'hashtags': [], 'symbols': [], 'user_mentions...  2020-10-08 02:49:05   \n",
      "1     {'hashtags': [], 'symbols': [], 'user_mentions...  2020-10-08 02:40:57   \n",
      "2     {'hashtags': [], 'symbols': [], 'user_mentions...  2020-10-08 02:24:56   \n",
      "3     {'hashtags': [], 'symbols': [], 'user_mentions...  2020-10-08 02:23:49   \n",
      "4     {'hashtags': [], 'symbols': [], 'user_mentions...  2020-10-08 02:20:57   \n",
      "...                                                 ...                  ...   \n",
      "1602  {'hashtags': [], 'symbols': [], 'user_mentions...  2020-07-11 12:45:18   \n",
      "1603  {'hashtags': [], 'symbols': [], 'user_mentions...  2020-07-11 12:36:15   \n",
      "1604  {'hashtags': [], 'symbols': [], 'user_mentions...  2020-07-11 12:27:27   \n",
      "1605  {'hashtags': [], 'symbols': [], 'user_mentions...  2020-07-11 12:25:48   \n",
      "1606  {'hashtags': [], 'symbols': [], 'user_mentions...  2020-07-11 12:24:11   \n",
      "\n",
      "      favourite  retweets language  geo  in_reply  \n",
      "0          7856      2700      und  NaN       NaN  \n",
      "1         22294      8828       en  NaN       NaN  \n",
      "2         18191      5547      und  NaN       NaN  \n",
      "3         37800      9667      und  NaN       NaN  \n",
      "4         24724      7687      und  NaN       NaN  \n",
      "...         ...       ...      ...  ...       ...  \n",
      "1602     173496     47552       en  NaN       NaN  \n",
      "1603      75120     19371       en  NaN       NaN  \n",
      "1604      32597      8600       en  NaN       NaN  \n",
      "1605      61818     14742       en  NaN       NaN  \n",
      "1606     149567     36389       en  NaN       NaN  \n",
      "\n",
      "[1607 rows x 10 columns]\n"
     ]
    }
   ],
   "source": [
    "print(trump_tweets)"
   ]
  },
  {
   "cell_type": "code",
   "execution_count": 21,
   "metadata": {
    "scrolled": true
   },
   "outputs": [
    {
     "name": "stdout",
     "output_type": "stream",
     "text": [
      "Mean of number of favourites Trump's tweets get is: 100213.01\n",
      "Mean of number of retweets Trump's tweets get is: 23074.06\n"
     ]
    }
   ],
   "source": [
    "print(\"Mean of number of favourites Trump's tweets get is: {:.2f}\".format(trump_tweets['favourite'].mean()));\n",
    "print(\"Mean of number of retweets Trump's tweets get is: {:.2f}\".format(trump_tweets['retweets'].mean()));"
   ]
  },
  {
   "cell_type": "code",
   "execution_count": 41,
   "metadata": {
    "scrolled": true
   },
   "outputs": [
    {
     "name": "stdout",
     "output_type": "stream",
     "text": [
      "0       2020-10-08\n",
      "1       2020-10-08\n",
      "2       2020-10-08\n",
      "3       2020-10-08\n",
      "4       2020-10-08\n",
      "           ...    \n",
      "1602    2020-07-11\n",
      "1603    2020-07-11\n",
      "1604    2020-07-11\n",
      "1605    2020-07-11\n",
      "1606    2020-07-11\n",
      "Name: date, Length: 1607, dtype: object\n",
      "2020-09-30    62\n",
      "2020-10-07    48\n",
      "2020-08-25    45\n",
      "2020-09-08    44\n",
      "2020-09-18    41\n",
      "              ..\n",
      "2020-08-08     3\n",
      "2020-10-02     3\n",
      "2020-09-19     3\n",
      "2020-07-20     2\n",
      "2020-07-22     2\n",
      "Name: date, Length: 89, dtype: int64\n"
     ]
    }
   ],
   "source": [
    "# Converting create_at column to datetime for later analysis use.\n",
    "trump_tweets['datetime']=pd.to_datetime(trump_tweets['created_at'], format='%Y-%m-%d %H:%M:%S')\n",
    "trump_tweets['date']=trump_tweets['datetime'].dt.date\n",
    "\n",
    "#number of tweets by day\n",
    "\n",
    "tweetsbyday=trump_tweets.date.value_counts()\n",
    "print(trump_tweets['date'])\n",
    "print(tweetsbyday)\n",
    "\n",
    "dataframetweetsbyday = pd.DataFrame(np.array([trump_tweets['date'], [tweetsbyday]]))"
   ]
  },
  {
   "cell_type": "code",
   "execution_count": 42,
   "metadata": {},
   "outputs": [
    {
     "data": {
      "image/png": "[encoded data removed]",
      "text/plain": [
       "<Figure size 432x288 with 1 Axes>"
      ]
     },
     "metadata": {
      "needs_background": "light"
     },
     "output_type": "display_data"
    },
    {
     "data": {
      "image/png": "[encoded data removed]",
      "text/plain": [
       "<Figure size 432x288 with 1 Axes>"
      ]
     },
     "metadata": {
      "needs_background": "light"
     },
     "output_type": "display_data"
    }
   ],
   "source": [
    "favouritelogged=trump_tweets.copy()\n",
    "retweetslogged=trump_tweets.copy()\n",
    "\n",
    "favouritelogged['favourite']=np.log10(favouritelogged['favourite'])\n",
    "retweetslogged['retweets']=np.log10(retweetslogged['retweets'])\n",
    "\n",
    "plt.scatter(favouritelogged.favourite, retweetslogged.retweets, alpha=0.3)\n",
    "plt.xlabel('Favourite')\n",
    "plt.ylabel('Retweet')\n",
    "plt.suptitle('Favourite vs Retweet')\n",
    "plt.show()\n",
    "\n",
    "plt.hist(trump_tweets['date'])\n",
    "plt.xlabel('Date')\n",
    "plt.ylabel('Number of tweets in a day')\n",
    "plt.show()"
   ]
  },
  {
   "cell_type": "code",
   "execution_count": 7,
   "metadata": {},
   "outputs": [
    {
     "name": "stdout",
     "output_type": "stream",
     "text": [
      "Trump words tweeted: 42295\n",
      "Mean number of words in each Trump tweet: 26.32\n",
      "Median number of words in each Trump tweet: 20.0\n",
      "Mode number of words in each Trump tweet: 3\n",
      "The least number of words Trump used in a tweet was: 3\n",
      "The most number of words Trump used in a tweet was: 76\n",
      "Standard deviation of number of words in each Trump tweet: 21.06\n"
     ]
    }
   ],
   "source": [
    "# Summary stats for the full_text column\n",
    "trump_total_words = 0 # The number of words Trump used across all the Tweets we collected\n",
    "trump_word_counts_list = [] # A list of the word count for each tweet\n",
    "for tweet in trump_tweets[\"full_text\"]:\n",
    "    tweet_length = len(tokenize(tweet))\n",
    "    trump_word_counts_list.append(tweet_length)                 \n",
    "    trump_total_words += tweet_length\n",
    "print(\"Trump words tweeted: \" + str(trump_total_words))\n",
    "trump_mean_wordcount = np.mean(trump_word_counts_list) #Mean number of words in each of Trump's tweets\n",
    "print(\"Mean number of words in each Trump tweet: {:.2f}\".format(trump_mean_wordcount))\n",
    "trump_median_wordcount = np.median(trump_word_counts_list)\n",
    "print(\"Median number of words in each Trump tweet: \" + str(trump_median_wordcount))\n",
    "trump_mode_wordcount = statistics.mode(trump_word_counts_list)\n",
    "print(\"Mode number of words in each Trump tweet: \" + str(trump_mode_wordcount))\n",
    "trump_minimum_words = min(trump_word_counts_list)\n",
    "print(\"The least number of words Trump used in a tweet was: \" + str(trump_minimum_words))\n",
    "trump_maximum_words = max(trump_word_counts_list)\n",
    "print(\"The most number of words Trump used in a tweet was: \" + str(trump_maximum_words))\n",
    "trump_stddev_wordcount = np.std(trump_word_counts_list)\n",
    "print(\"Standard deviation of number of words in each Trump tweet: {:.2f}\".format(trump_stddev_wordcount))"
   ]
  }
 ],
 "metadata": {
  "kernelspec": {
   "display_name": "Python 3",
   "language": "python",
   "name": "python3"
  },
  "language_info": {
   "codemirror_mode": {
    "name": "ipython",
    "version": 3
   },
   "file_extension": ".py",
   "mimetype": "text/x-python",
   "name": "python",
   "nbconvert_exporter": "python",
   "pygments_lexer": "ipython3",
   "version": "3.8.3"
  }
 },
 "nbformat": 4,
 "nbformat_minor": 4
}
