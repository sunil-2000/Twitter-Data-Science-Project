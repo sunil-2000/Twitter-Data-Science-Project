{
 "cells": [
  {
   "cell_type": "code",
   "execution_count": 1,
   "metadata": {},
   "outputs": [],
   "source": [
    "import pandas as pd \n",
    "import numpy as np \n",
    "import seaborn as sns\n",
    "import matplotlib.pyplot as plt\n",
    "import matplotlib.axes as axes\n",
    "import datetime\n",
    "from scipy import stats\n",
    "from scipy.stats import ttest_ind\n",
    "from sklearn.linear_model import LogisticRegression\n",
    "from textblob import TextBlob\n",
    "\n",
    "\n",
    "sns.set_palette('colorblind')"
   ]
  },
  {
   "cell_type": "code",
   "execution_count": 3,
   "metadata": {},
   "outputs": [],
   "source": [
    "biden_tweets = pd.read_csv(\"biden_tweets.csv\")\n",
    "trump_tweets = pd.read_csv(\"trump_tweets.csv\")"
   ]
  },
  {
   "cell_type": "code",
   "execution_count": 22,
   "metadata": {},
   "outputs": [
    {
     "data": {
      "text/html": [
       "<div>\n",
       "<style scoped>\n",
       "    .dataframe tbody tr th:only-of-type {\n",
       "        vertical-align: middle;\n",
       "    }\n",
       "\n",
       "    .dataframe tbody tr th {\n",
       "        vertical-align: top;\n",
       "    }\n",
       "\n",
       "    .dataframe thead th {\n",
       "        text-align: right;\n",
       "    }\n",
       "</style>\n",
       "<table border=\"1\" class=\"dataframe\">\n",
       "  <thead>\n",
       "    <tr style=\"text-align: right;\">\n",
       "      <th></th>\n",
       "      <th>Unnamed: 0</th>\n",
       "      <th>id</th>\n",
       "      <th>full_text</th>\n",
       "      <th>entities</th>\n",
       "      <th>created_at</th>\n",
       "      <th>favourite</th>\n",
       "      <th>retweets</th>\n",
       "      <th>language</th>\n",
       "      <th>geo</th>\n",
       "      <th>in_reply</th>\n",
       "    </tr>\n",
       "  </thead>\n",
       "  <tbody>\n",
       "    <tr>\n",
       "      <th>0</th>\n",
       "      <td>0</td>\n",
       "      <td>1313663334286323714</td>\n",
       "      <td>Please. https://t.co/acHR1Rf8hE</td>\n",
       "      <td>{'hashtags': [], 'symbols': [], 'user_mentions...</td>\n",
       "      <td>2020-10-07 02:12:00</td>\n",
       "      <td>90289</td>\n",
       "      <td>14867</td>\n",
       "      <td>en</td>\n",
       "      <td>NaN</td>\n",
       "      <td>NaN</td>\n",
       "    </tr>\n",
       "    <tr>\n",
       "      <th>1</th>\n",
       "      <td>1</td>\n",
       "      <td>1313652765319557122</td>\n",
       "      <td>I can’t wait for @KamalaHarris to make history...</td>\n",
       "      <td>{'hashtags': [], 'symbols': [], 'user_mentions...</td>\n",
       "      <td>2020-10-07 01:30:00</td>\n",
       "      <td>13317</td>\n",
       "      <td>2126</td>\n",
       "      <td>en</td>\n",
       "      <td>NaN</td>\n",
       "      <td>NaN</td>\n",
       "    </tr>\n",
       "    <tr>\n",
       "      <th>2</th>\n",
       "      <td>2</td>\n",
       "      <td>1313646473393840128</td>\n",
       "      <td>Ignore the polls, folks. There’s too much at s...</td>\n",
       "      <td>{'hashtags': [], 'symbols': [], 'user_mentions...</td>\n",
       "      <td>2020-10-07 01:05:00</td>\n",
       "      <td>56278</td>\n",
       "      <td>12104</td>\n",
       "      <td>en</td>\n",
       "      <td>NaN</td>\n",
       "      <td>NaN</td>\n",
       "    </tr>\n",
       "    <tr>\n",
       "      <th>3</th>\n",
       "      <td>3</td>\n",
       "      <td>1313641691602202624</td>\n",
       "      <td>Think about what it takes for a Black person t...</td>\n",
       "      <td>{'hashtags': [], 'symbols': [], 'user_mentions...</td>\n",
       "      <td>2020-10-07 00:46:00</td>\n",
       "      <td>30592</td>\n",
       "      <td>6574</td>\n",
       "      <td>en</td>\n",
       "      <td>NaN</td>\n",
       "      <td>NaN</td>\n",
       "    </tr>\n",
       "    <tr>\n",
       "      <th>4</th>\n",
       "      <td>4</td>\n",
       "      <td>1313633890289045504</td>\n",
       "      <td>Look, folks, I'm going to be honest: we'll try...</td>\n",
       "      <td>{'hashtags': [], 'symbols': [], 'user_mentions...</td>\n",
       "      <td>2020-10-07 00:15:00</td>\n",
       "      <td>13490</td>\n",
       "      <td>3023</td>\n",
       "      <td>en</td>\n",
       "      <td>NaN</td>\n",
       "      <td>NaN</td>\n",
       "    </tr>\n",
       "  </tbody>\n",
       "</table>\n",
       "</div>"
      ],
      "text/plain": [
       "   Unnamed: 0                   id  \\\n",
       "0           0  1313663334286323714   \n",
       "1           1  1313652765319557122   \n",
       "2           2  1313646473393840128   \n",
       "3           3  1313641691602202624   \n",
       "4           4  1313633890289045504   \n",
       "\n",
       "                                           full_text  \\\n",
       "0                    Please. https://t.co/acHR1Rf8hE   \n",
       "1  I can’t wait for @KamalaHarris to make history...   \n",
       "2  Ignore the polls, folks. There’s too much at s...   \n",
       "3  Think about what it takes for a Black person t...   \n",
       "4  Look, folks, I'm going to be honest: we'll try...   \n",
       "\n",
       "                                            entities           created_at  \\\n",
       "0  {'hashtags': [], 'symbols': [], 'user_mentions...  2020-10-07 02:12:00   \n",
       "1  {'hashtags': [], 'symbols': [], 'user_mentions...  2020-10-07 01:30:00   \n",
       "2  {'hashtags': [], 'symbols': [], 'user_mentions...  2020-10-07 01:05:00   \n",
       "3  {'hashtags': [], 'symbols': [], 'user_mentions...  2020-10-07 00:46:00   \n",
       "4  {'hashtags': [], 'symbols': [], 'user_mentions...  2020-10-07 00:15:00   \n",
       "\n",
       "   favourite  retweets language  geo  in_reply  \n",
       "0      90289     14867       en  NaN       NaN  \n",
       "1      13317      2126       en  NaN       NaN  \n",
       "2      56278     12104       en  NaN       NaN  \n",
       "3      30592      6574       en  NaN       NaN  \n",
       "4      13490      3023       en  NaN       NaN  "
      ]
     },
     "execution_count": 22,
     "metadata": {},
     "output_type": "execute_result"
    }
   ],
   "source": [
    "biden_tweets.head()"
   ]
  },
  {
   "cell_type": "markdown",
   "metadata": {},
   "source": [
    "### Get Texts of Each Tweet into a new DataFrame"
   ]
  },
  {
   "cell_type": "code",
   "execution_count": 23,
   "metadata": {},
   "outputs": [],
   "source": [
    "biden_text = biden_tweets['full_text']\n",
    "trump_text = trump_tweets['full_text']\n",
    "biden_time = biden_tweets['created_at']\n",
    "trump_time = trump_tweets['created_at']"
   ]
  },
  {
   "cell_type": "markdown",
   "metadata": {},
   "source": [
    "## Get Sentiment of Each Tweet"
   ]
  },
  {
   "cell_type": "code",
   "execution_count": 24,
   "metadata": {},
   "outputs": [],
   "source": [
    "biden_sent_list_polarity = []\n",
    "biden_sent_list_subjectivity = []\n",
    "trump_sent_list_polarity = []\n",
    "trump_sent_list_subjectivity = []\n",
    "for i in biden_text:\n",
    "    tweet = TextBlob(i)\n",
    "    biden_sent_list_polarity.append(tweet.sentiment.polarity)\n",
    "    biden_sent_list_subjectivity.append(tweet.sentiment.subjectivity)\n",
    "for i in trump_text:\n",
    "    tweet = TextBlob(i)\n",
    "    trump_sent_list_polarity.append(tweet.sentiment.polarity)\n",
    "    trump_sent_list_subjectivity.append(tweet.sentiment.subjectivity)\n",
    "\n",
    "trump_sent = pd.DataFrame({'Polarity': trump_sent_list_polarity,\n",
    "                          'Subjectivity': trump_sent_list_subjectivity,\n",
    "                          'Time': trump_time})\n",
    "biden_sent = pd.DataFrame({'Polarity': biden_sent_list_polarity,\n",
    "                          'Subjectivity': biden_sent_list_subjectivity,\n",
    "                          'Time': biden_time})"
   ]
  },
  {
   "cell_type": "markdown",
   "metadata": {},
   "source": [
    "## Plots "
   ]
  },
  {
   "cell_type": "code",
   "execution_count": 18,
   "metadata": {},
   "outputs": [
    {
     "data": {
      "text/plain": [
       "(array([ 11.,  16.,  28.,  73., 157., 868., 193., 118.,  54.,  89.]),\n",
       " array([-1. , -0.8, -0.6, -0.4, -0.2,  0. ,  0.2,  0.4,  0.6,  0.8,  1. ]),\n",
       " <BarContainer object of 10 artists>)"
      ]
     },
     "execution_count": 18,
     "metadata": {},
     "output_type": "execute_result"
    },
    {
     "data": {
      "image/png": "[encoded data removed]",
      "text/plain": [
       "<Figure size 432x288 with 1 Axes>"
      ]
     },
     "metadata": {
      "needs_background": "light"
     },
     "output_type": "display_data"
    }
   ],
   "source": [
    "plt.hist(trump_sent['Polarity'])"
   ]
  },
  {
   "cell_type": "code",
   "execution_count": 19,
   "metadata": {},
   "outputs": [
    {
     "data": {
      "text/plain": [
       "(array([   4.,    9.,   58.,  146.,  331., 1624.,  547.,  249.,   54.,\n",
       "          62.]),\n",
       " array([-1. , -0.8, -0.6, -0.4, -0.2,  0. ,  0.2,  0.4,  0.6,  0.8,  1. ]),\n",
       " <BarContainer object of 10 artists>)"
      ]
     },
     "execution_count": 19,
     "metadata": {},
     "output_type": "execute_result"
    },
    {
     "data": {
      "image/png": "[encoded data removed]",
      "text/plain": [
       "<Figure size 432x288 with 1 Axes>"
      ]
     },
     "metadata": {
      "needs_background": "light"
     },
     "output_type": "display_data"
    }
   ],
   "source": [
    "plt.hist(biden_sent['Polarity'])"
   ]
  },
  {
   "cell_type": "code",
   "execution_count": 20,
   "metadata": {},
   "outputs": [
    {
     "data": {
      "text/plain": [
       "<matplotlib.collections.PathCollection at 0x7ffd52c883d0>"
      ]
     },
     "execution_count": 20,
     "metadata": {},
     "output_type": "execute_result"
    },
    {
     "data": {
      "image/png": "[encoded data removed]",
      "text/plain": [
       "<Figure size 432x288 with 1 Axes>"
      ]
     },
     "metadata": {
      "needs_background": "light"
     },
     "output_type": "display_data"
    }
   ],
   "source": [
    "plt.scatter(trump_sent['Polarity'], trump_sent['Subjectivity'])"
   ]
  },
  {
   "cell_type": "code",
   "execution_count": 21,
   "metadata": {},
   "outputs": [
    {
     "data": {
      "text/plain": [
       "<matplotlib.collections.PathCollection at 0x7ffd72a9b9d0>"
      ]
     },
     "execution_count": 21,
     "metadata": {},
     "output_type": "execute_result"
    },
    {
     "data": {
      "image/png": "[encoded data removed]",
      "text/plain": [
       "<Figure size 432x288 with 1 Axes>"
      ]
     },
     "metadata": {
      "needs_background": "light"
     },
     "output_type": "display_data"
    }
   ],
   "source": [
    "plt.scatter(biden_sent['Polarity'], biden_sent['Subjectivity'])"
   ]
  },
  {
   "cell_type": "code",
   "execution_count": null,
   "metadata": {},
   "outputs": [],
   "source": [
    "trump_sent(['Time'])"
   ]
  },
  {
   "cell_type": "code",
   "execution_count": null,
   "metadata": {},
   "outputs": [],
   "source": []
  }
 ],
 "metadata": {
  "kernelspec": {
   "display_name": "Python 3",
   "language": "python",
   "name": "python3"
  },
  "language_info": {
   "codemirror_mode": {
    "name": "ipython",
    "version": 3
   },
   "file_extension": ".py",
   "mimetype": "text/x-python",
   "name": "python",
   "nbconvert_exporter": "python",
   "pygments_lexer": "ipython3",
   "version": "3.7.9"
  }
 },
 "nbformat": 4,
 "nbformat_minor": 2
}
