{
 "cells": [
  {
   "cell_type": "code",
   "execution_count": 2,
   "metadata": {},
   "outputs": [],
   "source": [
    "import tweepy\n",
    "import pandas as pd\n",
    "import numpy as np\n",
    "import csv\n",
    "import time\n",
    "import private \n",
    "\n",
    "api_key = private.consumer_key\n",
    "api_secret = private.consumer_secret\n",
    "access_token = private.access_token\n",
    "access_token_secret = private.access_secret"
   ]
  },
  {
   "cell_type": "code",
   "execution_count": 3,
   "metadata": {},
   "outputs": [],
   "source": [
    "auth = tweepy.OAuthHandler(api_key, api_secret)\n",
    "auth.set_access_token(access_token, access_token_secret)\n",
    "api = tweepy.API(auth)"
   ]
  },
  {
   "cell_type": "code",
   "execution_count": 31,
   "metadata": {},
   "outputs": [],
   "source": [
    "'''Twitter mining function to pull ~3200 tweets from a given user  '''\n",
    "def mine_tweets (api, user_id):\n",
    "    \n",
    "    tweets_init = api.user_timeline(screen_name = user_id, \n",
    "                                    count = 200, \n",
    "                                    include_rts = False, \n",
    "                                    tweet_mode = 'extended', \n",
    "                                    wait_on_rate_limit = True)\n",
    "    \n",
    "    all_tweets = []\n",
    "    oldest_id = tweets_init[0].id\n",
    "    \n",
    "    while (len(all_tweets) <= 3000):\n",
    "        tweets = tweepy.Cursor(api.user_timeline, \n",
    "                                screen_name = user_id,\n",
    "                                count= 200,\n",
    "                                include_rts = False,\n",
    "                                tweet_mode = 'extended',\n",
    "                                max_id = oldest_id,\n",
    "                                wait_on_rate_limit = True).items()\n",
    "        for tweet in tweets:\n",
    "            oldest_id = tweet.id\n",
    "            if tweet not in all_tweets:\n",
    "                all_tweets.append(tweet)\n",
    "        print('Number of tweets downloaded {}'.format(len(all_tweets)))\n",
    "    \n",
    "    return all_tweets\n",
    "\n"
   ]
  },
  {
   "cell_type": "code",
   "execution_count": 5,
   "metadata": {},
   "outputs": [
    {
     "name": "stdout",
     "output_type": "stream",
     "text": [
      "enter\n",
      "try\n",
      "Number of tweets downloaded 3084\n"
     ]
    }
   ],
   "source": [
    "biden_tweets = mine_tweets(api, \"JoeBiden\")\n"
   ]
  },
  {
   "cell_type": "code",
   "execution_count": 10,
   "metadata": {},
   "outputs": [
    {
     "data": {
      "text/plain": [
       "3084"
      ]
     },
     "execution_count": 10,
     "metadata": {},
     "output_type": "execute_result"
    }
   ],
   "source": [
    "result = []\n",
    "for t in biden_tweets:\n",
    "    result.append(t.id)\n",
    "len(np.unique(result))"
   ]
  },
  {
   "cell_type": "code",
   "execution_count": 20,
   "metadata": {},
   "outputs": [
    {
     "data": {
      "text/plain": [
       "3084"
      ]
     },
     "execution_count": 20,
     "metadata": {},
     "output_type": "execute_result"
    }
   ],
   "source": [
    "results = []\n",
    "full_text = []\n",
    "entities = []\n",
    "created_at =[]\n",
    "favourite = []\n",
    "retweets = []\n",
    "language = []\n",
    "geo_location = []\n",
    "in_reply = []\n",
    "for i in biden_tweets:\n",
    "    results.append(i.id)\n",
    "    full_text.append(i.full_text)\n",
    "    entities.append(i.entities)\n",
    "    created_at.append(i.created_at)\n",
    "    favourite.append(i.favorite_count)\n",
    "    retweets.append(i.retweet_count)\n",
    "    language.append(i.lang)\n",
    "    geo_location.append(i.geo)\n",
    "    in_reply.append(i.in_reply_to_user_id)\n",
    "    \n",
    "    \n",
    "\n",
    "len(np.unique(results))"
   ]
  },
  {
   "cell_type": "code",
   "execution_count": 21,
   "metadata": {},
   "outputs": [],
   "source": [
    "tweets_df = pd.DataFrame({'id' : results, 'full_text' : full_text, 'entities' : entities, 'created_at' : created_at, 'favourite' : favourite, 'retweets' : retweets, 'language' : language, 'geo' : geo_location, 'in_reply' : in_reply})"
   ]
  },
  {
   "cell_type": "code",
   "execution_count": 22,
   "metadata": {},
   "outputs": [
    {
     "name": "stdout",
     "output_type": "stream",
     "text": [
      "                    id                                          full_text  \\\n",
      "0  1313663334286323714                    Please. https://t.co/acHR1Rf8hE   \n",
      "1  1313652765319557122  I can’t wait for @KamalaHarris to make history...   \n",
      "2  1313646473393840128  Ignore the polls, folks. There’s too much at s...   \n",
      "3  1313641691602202624  Think about what it takes for a Black person t...   \n",
      "4  1313633890289045504  Look, folks, I'm going to be honest: we'll try...   \n",
      "\n",
      "                                            entities          created_at  \\\n",
      "0  {'hashtags': [], 'symbols': [], 'user_mentions... 2020-10-07 02:12:00   \n",
      "1  {'hashtags': [], 'symbols': [], 'user_mentions... 2020-10-07 01:30:00   \n",
      "2  {'hashtags': [], 'symbols': [], 'user_mentions... 2020-10-07 01:05:00   \n",
      "3  {'hashtags': [], 'symbols': [], 'user_mentions... 2020-10-07 00:46:00   \n",
      "4  {'hashtags': [], 'symbols': [], 'user_mentions... 2020-10-07 00:15:00   \n",
      "\n",
      "   favourite  retweets language   geo  in_reply  \n",
      "0      90289     14867       en  None       NaN  \n",
      "1      13317      2126       en  None       NaN  \n",
      "2      56278     12104       en  None       NaN  \n",
      "3      30592      6574       en  None       NaN  \n",
      "4      13490      3023       en  None       NaN  \n"
     ]
    }
   ],
   "source": [
    "print(tweets_df.head())\n",
    "tweets_df.to_csv('biden_tweets.csv')"
   ]
  },
  {
   "cell_type": "code",
   "execution_count": 32,
   "metadata": {},
   "outputs": [
    {
     "ename": "KeyboardInterrupt",
     "evalue": "",
     "output_type": "error",
     "traceback": [
      "\u001b[0;31m---------------------------------------------------------------------------\u001b[0m",
      "\u001b[0;31mKeyboardInterrupt\u001b[0m                         Traceback (most recent call last)",
      "\u001b[0;32m<ipython-input-32-070e662b2026>\u001b[0m in \u001b[0;36m<module>\u001b[0;34m\u001b[0m\n\u001b[0;32m----> 1\u001b[0;31m \u001b[0mtrump_tweets\u001b[0m \u001b[0;34m=\u001b[0m \u001b[0mmine_tweets\u001b[0m\u001b[0;34m(\u001b[0m\u001b[0mapi\u001b[0m\u001b[0;34m,\u001b[0m \u001b[0;34m\"realDonaldTrump\"\u001b[0m\u001b[0;34m)\u001b[0m\u001b[0;34m\u001b[0m\u001b[0;34m\u001b[0m\u001b[0m\n\u001b[0m",
      "\u001b[0;32m<ipython-input-31-8f2d08d6eaa2>\u001b[0m in \u001b[0;36mmine_tweets\u001b[0;34m(api, user_id)\u001b[0m\n\u001b[1;32m      6\u001b[0m                                     \u001b[0minclude_rts\u001b[0m \u001b[0;34m=\u001b[0m \u001b[0;32mFalse\u001b[0m\u001b[0;34m,\u001b[0m\u001b[0;34m\u001b[0m\u001b[0;34m\u001b[0m\u001b[0m\n\u001b[1;32m      7\u001b[0m                                     \u001b[0mtweet_mode\u001b[0m \u001b[0;34m=\u001b[0m \u001b[0;34m'extended'\u001b[0m\u001b[0;34m,\u001b[0m\u001b[0;34m\u001b[0m\u001b[0;34m\u001b[0m\u001b[0m\n\u001b[0;32m----> 8\u001b[0;31m                                     wait_on_rate_limit = True)\n\u001b[0m\u001b[1;32m      9\u001b[0m \u001b[0;34m\u001b[0m\u001b[0m\n\u001b[1;32m     10\u001b[0m     \u001b[0mall_tweets\u001b[0m \u001b[0;34m=\u001b[0m \u001b[0;34m[\u001b[0m\u001b[0;34m]\u001b[0m\u001b[0;34m\u001b[0m\u001b[0;34m\u001b[0m\u001b[0m\n",
      "\u001b[0;32m~/opt/anaconda3/lib/python3.7/site-packages/tweepy/binder.py\u001b[0m in \u001b[0;36m_call\u001b[0;34m(*args, **kwargs)\u001b[0m\n\u001b[1;32m    250\u001b[0m                 \u001b[0;32mreturn\u001b[0m \u001b[0mmethod\u001b[0m\u001b[0;34m\u001b[0m\u001b[0;34m\u001b[0m\u001b[0m\n\u001b[1;32m    251\u001b[0m             \u001b[0;32melse\u001b[0m\u001b[0;34m:\u001b[0m\u001b[0;34m\u001b[0m\u001b[0;34m\u001b[0m\u001b[0m\n\u001b[0;32m--> 252\u001b[0;31m                 \u001b[0;32mreturn\u001b[0m \u001b[0mmethod\u001b[0m\u001b[0;34m.\u001b[0m\u001b[0mexecute\u001b[0m\u001b[0;34m(\u001b[0m\u001b[0;34m)\u001b[0m\u001b[0;34m\u001b[0m\u001b[0;34m\u001b[0m\u001b[0m\n\u001b[0m\u001b[1;32m    253\u001b[0m         \u001b[0;32mfinally\u001b[0m\u001b[0;34m:\u001b[0m\u001b[0;34m\u001b[0m\u001b[0;34m\u001b[0m\u001b[0m\n\u001b[1;32m    254\u001b[0m             \u001b[0mmethod\u001b[0m\u001b[0;34m.\u001b[0m\u001b[0msession\u001b[0m\u001b[0;34m.\u001b[0m\u001b[0mclose\u001b[0m\u001b[0;34m(\u001b[0m\u001b[0;34m)\u001b[0m\u001b[0;34m\u001b[0m\u001b[0;34m\u001b[0m\u001b[0m\n",
      "\u001b[0;32m~/opt/anaconda3/lib/python3.7/site-packages/tweepy/binder.py\u001b[0m in \u001b[0;36mexecute\u001b[0;34m(self)\u001b[0m\n\u001b[1;32m    161\u001b[0m                                     \u001b[0;32mif\u001b[0m \u001b[0mself\u001b[0m\u001b[0;34m.\u001b[0m\u001b[0mwait_on_rate_limit_notify\u001b[0m\u001b[0;34m:\u001b[0m\u001b[0;34m\u001b[0m\u001b[0;34m\u001b[0m\u001b[0m\n\u001b[1;32m    162\u001b[0m                                         \u001b[0mlog\u001b[0m\u001b[0;34m.\u001b[0m\u001b[0mwarning\u001b[0m\u001b[0;34m(\u001b[0m\u001b[0;34m\"Rate limit reached. Sleeping for: %d\"\u001b[0m \u001b[0;34m%\u001b[0m \u001b[0msleep_time\u001b[0m\u001b[0;34m)\u001b[0m\u001b[0;34m\u001b[0m\u001b[0;34m\u001b[0m\u001b[0m\n\u001b[0;32m--> 163\u001b[0;31m                                     \u001b[0mtime\u001b[0m\u001b[0;34m.\u001b[0m\u001b[0msleep\u001b[0m\u001b[0;34m(\u001b[0m\u001b[0msleep_time\u001b[0m \u001b[0;34m+\u001b[0m \u001b[0;36m5\u001b[0m\u001b[0;34m)\u001b[0m  \u001b[0;31m# sleep for few extra sec\u001b[0m\u001b[0;34m\u001b[0m\u001b[0;34m\u001b[0m\u001b[0m\n\u001b[0m\u001b[1;32m    164\u001b[0m \u001b[0;34m\u001b[0m\u001b[0m\n\u001b[1;32m    165\u001b[0m                 \u001b[0;31m# if self.wait_on_rate_limit and self._reset_time is not None and \\\u001b[0m\u001b[0;34m\u001b[0m\u001b[0;34m\u001b[0m\u001b[0;34m\u001b[0m\u001b[0m\n",
      "\u001b[0;31mKeyboardInterrupt\u001b[0m: "
     ]
    }
   ],
   "source": [
    "trump_tweets = mine_tweets(api, \"realDonaldTrump\")"
   ]
  },
  {
   "cell_type": "code",
   "execution_count": null,
   "metadata": {},
   "outputs": [],
   "source": []
  },
  {
   "cell_type": "code",
   "execution_count": null,
   "metadata": {},
   "outputs": [],
   "source": []
  }
 ],
 "metadata": {
  "kernelspec": {
   "display_name": "Python 3",
   "language": "python",
   "name": "python3"
  },
  "language_info": {
   "codemirror_mode": {
    "name": "ipython",
    "version": 3
   },
   "file_extension": ".py",
   "mimetype": "text/x-python",
   "name": "python",
   "nbconvert_exporter": "python",
   "pygments_lexer": "ipython3",
   "version": "3.7.4"
  }
 },
 "nbformat": 4,
 "nbformat_minor": 4
}
