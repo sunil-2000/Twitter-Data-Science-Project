{
 "cells": [
  {
   "cell_type": "code",
   "execution_count": 2,
   "metadata": {},
   "outputs": [],
   "source": [
    "import tweepy\n",
    "import pandas as pd\n",
    "import numpy as np\n",
    "import csv\n",
    "import time\n",
    "import private \n",
    "\n",
    "api_key = private.consumer_key\n",
    "api_secret = private.consumer_secret\n",
    "access_token = private.access_token\n",
    "access_token_secret = private.access_secret"
   ]
  },
  {
   "cell_type": "code",
   "execution_count": 3,
   "metadata": {},
   "outputs": [],
   "source": [
    "auth = tweepy.OAuthHandler(api_key, api_secret)\n",
    "auth.set_access_token(access_token, access_token_secret)\n",
    "api = tweepy.API(auth)"
   ]
  },
  {
   "cell_type": "code",
   "execution_count": 4,
   "metadata": {},
   "outputs": [],
   "source": [
    "'''Twitter mining function to pull ~3200 tweets from a given user  '''\n",
    "def mine_tweets (api, user_id):\n",
    "    \n",
    "    tweets_init = api.user_timeline(screen_name = user_id, \n",
    "                                    count = 200, \n",
    "                                    include_rts = False, \n",
    "                                    tweet_mode = 'extended', \n",
    "                                    wait_on_rate_limit = True)\n",
    "    \n",
    "    print('enter')\n",
    "    all_tweets = []\n",
    "    oldest_id = tweets_init[0].id\n",
    "    \n",
    "    while (len(all_tweets) <= 3000):\n",
    "        tweets = tweepy.Cursor(api.user_timeline, \n",
    "                                screen_name = user_id,\n",
    "                                count= 200,\n",
    "                                include_rts = False,\n",
    "                                tweet_mode = 'extended',\n",
    "                                max_id = oldest_id,\n",
    "                                wait_on_rate_limit = True).items()\n",
    "        print('try')\n",
    "        for tweet in tweets:\n",
    "            oldest_id = tweet.id\n",
    "            if tweet not in all_tweets:\n",
    "                all_tweets.append(tweet)\n",
    "        print('Number of tweets downloaded {}'.format(len(all_tweets)))\n",
    "    \n",
    "    return all_tweets\n",
    "\n"
   ]
  },
  {
   "cell_type": "code",
   "execution_count": 5,
   "metadata": {},
   "outputs": [
    {
     "name": "stdout",
     "output_type": "stream",
     "text": [
      "enter\n",
      "try\n",
      "Number of tweets downloaded 3084\n"
     ]
    }
   ],
   "source": [
    "biden_tweets = mine_tweets(api, \"JoeBiden\")\n",
    "#trump_tweets = mine_tweets(api, \"realDonaldTrump\")\n",
    "\n"
   ]
  },
  {
   "cell_type": "code",
   "execution_count": 10,
   "metadata": {},
   "outputs": [
    {
     "data": {
      "text/plain": [
       "3084"
      ]
     },
     "execution_count": 10,
     "metadata": {},
     "output_type": "execute_result"
    }
   ],
   "source": [
    "result = []\n",
    "for t in biden_tweets:\n",
    "    result.append(t.id)\n",
    "len(np.unique(result))"
   ]
  },
  {
   "cell_type": "code",
   "execution_count": 7,
   "metadata": {},
   "outputs": [],
   "source": [
    "tweets_init = api.user_timeline(screen_name = \"JoeBiden\", \n",
    "                                    count = 200, \n",
    "                                    include_rts = False, \n",
    "                                    tweet_mode = 'extended', \n",
    "                                    wait_on_rate_limit = True)"
   ]
  },
  {
   "cell_type": "code",
   "execution_count": 11,
   "metadata": {},
   "outputs": [
    {
     "data": {
      "text/plain": [
       "3084"
      ]
     },
     "execution_count": 11,
     "metadata": {},
     "output_type": "execute_result"
    }
   ],
   "source": [
    "results = []\n",
    "full_text = []\n",
    "entities = []\n",
    "created_at =[]\n",
    "favourite = []\n",
    "retweets = []\n",
    "languge = []\n",
    "geo_location = []\n",
    "in_reply = []\n",
    "for i in biden_tweets:\n",
    "    results.append(i.id)\n",
    "    full_text.append(i.full_text)\n",
    "    entities.append(i.entities)\n",
    "    created_at.append(i.created_at)\n",
    "    favourite.append(i.favorite_count)\n",
    "    retweets.append(i.retweet_count)\n",
    "    language.append(i.lang)\n",
    "    geo_location(i.geo)\n",
    "    in_reply(i.in_reply_to_user_id)\n",
    "    \n",
    "    \n",
    "\n",
    "len(np.unique(results))"
   ]
  },
  {
   "cell_type": "code",
   "execution_count": 15,
   "metadata": {},
   "outputs": [],
   "source": [
    "tweets_df = pd.DataFrame({'id' : results, 'full_text' : full_text, 'entities' : entities, 'created_at' : created_at, 'favourite' : favourite, 'retweets' : retweets})"
   ]
  },
  {
   "cell_type": "code",
   "execution_count": 17,
   "metadata": {},
   "outputs": [
    {
     "name": "stdout",
     "output_type": "stream",
     "text": [
      "               results                                          full_text  \\\n",
      "0  1313663334286323714                    Please. https://t.co/acHR1Rf8hE   \n",
      "1  1313652765319557122  I can’t wait for @KamalaHarris to make history...   \n",
      "2  1313646473393840128  Ignore the polls, folks. There’s too much at s...   \n",
      "3  1313641691602202624  Think about what it takes for a Black person t...   \n",
      "4  1313633890289045504  Look, folks, I'm going to be honest: we'll try...   \n",
      "\n",
      "                                            entities          created_at  \\\n",
      "0  {'hashtags': [], 'symbols': [], 'user_mentions... 2020-10-07 02:12:00   \n",
      "1  {'hashtags': [], 'symbols': [], 'user_mentions... 2020-10-07 01:30:00   \n",
      "2  {'hashtags': [], 'symbols': [], 'user_mentions... 2020-10-07 01:05:00   \n",
      "3  {'hashtags': [], 'symbols': [], 'user_mentions... 2020-10-07 00:46:00   \n",
      "4  {'hashtags': [], 'symbols': [], 'user_mentions... 2020-10-07 00:15:00   \n",
      "\n",
      "   favourite  retweets  \n",
      "0      90289     14867  \n",
      "1      13317      2126  \n",
      "2      56278     12104  \n",
      "3      30592      6574  \n",
      "4      13490      3023  \n"
     ]
    }
   ],
   "source": [
    "print(tweets_df.head())\n",
    "tweets_df.to_csv('biden_tweets.csv')"
   ]
  },
  {
   "cell_type": "code",
   "execution_count": null,
   "metadata": {},
   "outputs": [],
   "source": []
  }
 ],
 "metadata": {
  "kernelspec": {
   "display_name": "Python 3",
   "language": "python",
   "name": "python3"
  },
  "language_info": {
   "codemirror_mode": {
    "name": "ipython",
    "version": 3
   },
   "file_extension": ".py",
   "mimetype": "text/x-python",
   "name": "python",
   "nbconvert_exporter": "python",
   "pygments_lexer": "ipython3",
   "version": "3.8.3"
  }
 },
 "nbformat": 4,
 "nbformat_minor": 4
}
