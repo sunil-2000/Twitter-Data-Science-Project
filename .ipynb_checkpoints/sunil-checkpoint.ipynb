{
 "cells": [
  {
   "cell_type": "code",
   "execution_count": 86,
   "metadata": {},
   "outputs": [],
   "source": [
    "import tweepy\n",
    "import pandas as pd\n",
    "import numpy as np\n",
    "import csv\n",
    "import time\n",
    "\n",
    "api_key = \n",
    "api_secret = \n",
    "access_token = \n",
    "access_token_secret = "
   ]
  },
  {
   "cell_type": "code",
   "execution_count": 87,
   "metadata": {},
   "outputs": [],
   "source": [
    "auth = tweepy.OAuthHandler(api_key, api_secret)\n",
    "auth.set_access_token(access_token, access_token_secret)\n",
    "api = tweepy.API(auth)"
   ]
  },
  {
   "cell_type": "code",
   "execution_count": 81,
   "metadata": {},
   "outputs": [],
   "source": [
    "def extract(page_no):\n",
    "    result = []\n",
    "    i = 0\n",
    "    while (i <= page_no):\n",
    "        y = api.user_timeline(\"@realdonaldtrump\", page =i)\n",
    "        for tweet in y:\n",
    "            result.append(tweet.text)\n",
    "        i = i +1 \n",
    "        time.sleep(5)\n",
    "    return result\n"
   ]
  },
  {
   "cell_type": "code",
   "execution_count": 107,
   "metadata": {},
   "outputs": [
    {
     "data": {
      "text/plain": [
       "25073877"
      ]
     },
     "execution_count": 107,
     "metadata": {},
     "output_type": "execute_result"
    }
   ],
   "source": [
    "#user id tweet.user == realdonaldtrump\n",
    "trump_id = api.get_user(\"realdonaldtrump\").id\n",
    "trump_id\n",
    "\n",
    "#number of retweets \n",
    "#tweet.retweet_count \n",
    "\n",
    "#not a retweet:\n",
    "#tweet.retweet == false \n"
   ]
  },
  {
   "cell_type": "code",
   "execution_count": 157,
   "metadata": {},
   "outputs": [],
   "source": [
    "def extract(api, page_no):\n",
    "    i = 0 \n",
    "    result = []\n",
    "    while (i<= page_no):\n",
    "        for tweet in api.user_timeline(\"realdonaldtrump\", page = i):\n",
    "            if not hasattr(tweet, \"retweeted_status\"):\n",
    "                print(\"not retweet\")\n",
    "                if ((tweet.user.id == trump_id)):\n",
    "                    result.append(tweet.text)\n",
    "        time.sleep(5)\n",
    "        i += 1\n",
    "    return result\n",
    "        \n",
    "        "
   ]
  },
  {
   "cell_type": "code",
   "execution_count": 159,
   "metadata": {},
   "outputs": [
    {
     "name": "stdout",
     "output_type": "stream",
     "text": [
      "not retweet\n",
      "not retweet\n",
      "not retweet\n",
      "not retweet\n",
      "not retweet\n",
      "not retweet\n",
      "not retweet\n",
      "not retweet\n",
      "not retweet\n",
      "not retweet\n",
      "not retweet\n",
      "not retweet\n",
      "not retweet\n",
      "not retweet\n",
      "not retweet\n",
      "not retweet\n",
      "not retweet\n",
      "not retweet\n",
      "not retweet\n",
      "not retweet\n",
      "not retweet\n",
      "not retweet\n",
      "not retweet\n",
      "not retweet\n",
      "not retweet\n",
      "not retweet\n",
      "not retweet\n",
      "not retweet\n",
      "not retweet\n",
      "not retweet\n",
      "not retweet\n",
      "not retweet\n",
      "not retweet\n",
      "not retweet\n",
      "not retweet\n",
      "not retweet\n",
      "not retweet\n",
      "not retweet\n",
      "not retweet\n",
      "not retweet\n",
      "not retweet\n",
      "not retweet\n",
      "not retweet\n",
      "not retweet\n",
      "not retweet\n",
      "not retweet\n",
      "not retweet\n",
      "not retweet\n",
      "not retweet\n",
      "not retweet\n",
      "not retweet\n",
      "not retweet\n",
      "not retweet\n",
      "not retweet\n",
      "not retweet\n",
      "not retweet\n",
      "not retweet\n",
      "not retweet\n",
      "not retweet\n",
      "not retweet\n",
      "not retweet\n",
      "not retweet\n",
      "not retweet\n",
      "not retweet\n",
      "not retweet\n",
      "not retweet\n",
      "not retweet\n",
      "not retweet\n",
      "not retweet\n",
      "not retweet\n",
      "not retweet\n",
      "not retweet\n",
      "not retweet\n",
      "not retweet\n",
      "not retweet\n",
      "not retweet\n",
      "not retweet\n"
     ]
    },
    {
     "data": {
      "text/plain": [
       "['https://t.co/B4H105KVSs',\n",
       " 'https://t.co/B4H105KVSs',\n",
       " 'Tonight, @FLOTUS and I tested positive for COVID-19. We will begin our quarantine and recovery process immediately.… https://t.co/CIIB2LDQtr',\n",
       " 'Hope Hicks, who has been working so hard without even taking a small break, has just tested positive for Covid 19.… https://t.co/guNmSgcZbV',\n",
       " 'https://t.co/KIFQOAzeUw',\n",
       " 'https://t.co/VHNdE0OLaV',\n",
       " 'https://t.co/raNjVHaCOE',\n",
       " 'I’m used to it! https://t.co/HYmS2s4gEK',\n",
       " 'I will be overturning this ridiculous order immediately! https://t.co/sFIX5Y667v',\n",
       " 'Will be interviewed tonight by @seanhannity at 9:00. Enjoy!@FoxNews',\n",
       " 'Thank you! https://t.co/dheOB0YlFz',\n",
       " 'Thank you Duluth, Minnesota! \\nhttps://t.co/OY9Ki05WHb',\n",
       " 'So when will something significant happen to James Comey? Got caught cold. He is either very dumb, or one of the wo… https://t.co/i6BnuG1k4L',\n",
       " 'Sleepy Joe’s USA! https://t.co/qL0vHoGk0z',\n",
       " 'Leaving Minneapolis for a quick stop in Duluth to celebrate the opening of the Obama CLOSED Iron Range. My great honor!!!',\n",
       " 'Just landed in Minnesota. Hasn’t been won by a Republican since 1972, and we saved Minneapolis. Also opened the mas… https://t.co/MSTMmwRv0q',\n",
       " 'HIGHEST CABLE TELEVISION RATINGS OF ALL TIME. SECOND HIGHEST OVERALL TELEVISION RATINGS OF ALL TIME. Some day these… https://t.co/pRXt9G5cRH',\n",
       " 'So weird to watch @FoxNews interviewing only failed Dems, like Represenative Tim Ryan of Ohio, who got zero percent… https://t.co/I0nYbMwaah',\n",
       " 'Just departed the White House for Minnesota! #MAGA https://t.co/nAdxls0z8C',\n",
       " 'Thank you! https://t.co/KVayfCydRd',\n",
       " 'https://t.co/Zm6Lqzgppq',\n",
       " 'https://t.co/V3jQCWm9uJ',\n",
       " 'Thank you Ari! https://t.co/ghPg3w2jmc',\n",
       " 'https://t.co/gsFSgh2KPc',\n",
       " 'Heading to Minnesota today. Saved Minneapolis after the Dem LEFT almost let it be TOTALLY destroyed! #MAGA',\n",
       " 'Wow! 100,000 Mail In Ballots in New York City a total MESS. Mayor and Governor have no idea what to do. Big Fraud,… https://t.co/gLK6qgNhPa',\n",
       " 'Biden REFUSED to use the term, LAW &amp; ORDER! There go the Suburbs.',\n",
       " 'Biden wants to Pack the Supreme Court, thereby ruining it. Also, he wants no fracking, killing our Energy business,… https://t.co/RnRD1c8Z3j',\n",
       " 'Nobody wants Sleepy Joe as a leader, including the Radical Left (which he lost last night!). He disrespected Bernie… https://t.co/fthCD0Cecq',\n",
       " 'Chris had a tough night. Two on one was not surprising, but  fun. Many important points made, like throwing Bernie,… https://t.co/YQ8VpAsIcs',\n",
       " 'https://t.co/HUSFkHqsyC',\n",
       " 'https://t.co/58ssX7EfUj',\n",
       " 'Volunteer to be a Trump Election Poll Watcher. Sign up today! #MakeAmericaGreatAgain \\nhttps://t.co/8m0dNPTtt6',\n",
       " 'https://t.co/gsFSgh2KPc',\n",
       " '“EPA: One Trillion Trees Initiative will build on President Donald Trump’s commitment” https://t.co/qQZqgqUrSK',\n",
       " 'https://t.co/jp3tPy1X1a',\n",
       " 'https://t.co/sgXAEojqjj https://t.co/lzWOUbQ5MV',\n",
       " 'Joe Biden could not name a single Law Enforcement group that supports his candidacy!',\n",
       " 'https://t.co/EMFDxIuyJs',\n",
       " 'https://t.co/WMOXjAY8AY',\n",
       " 'https://t.co/runkw7pxyv',\n",
       " 'The American people want LAW &amp; ORDER — Joe Biden won’t even say those words!',\n",
       " 'https://t.co/LFOSsWB58M',\n",
       " '“The Fraternal Order of Police\\xa0endorsed\\xa0President Trump’s reelection, saying he has the ‘full and enthusiastic supp… https://t.co/sea99vOKam',\n",
       " 'https://t.co/73kpVWrugh',\n",
       " 'https://t.co/gF4VmXWFoK',\n",
       " 'https://t.co/LnBpKJE9yi',\n",
       " 'https://t.co/UwyDwoDQgp',\n",
       " 'https://t.co/w6Vlywaesb',\n",
       " 'https://t.co/kWxETQoUUN',\n",
       " 'https://t.co/RF65Ne3ZyL',\n",
       " 'https://t.co/5d45jekGfc',\n",
       " 'I did more in 47 months as President than Joe Biden did in 47 years! https://t.co/Qa7U3pKxtE',\n",
       " 'https://t.co/UE6Ut2saTh',\n",
       " 'If we listened to Joe Biden on coronavirus, millions of people would have died! https://t.co/zFRTHPIWwW',\n",
       " 'Joe wants to shut down this Country. I want to keep it OPEN!',\n",
       " 'https://t.co/PRniUgzs3E',\n",
       " 'https://t.co/p4zXjaryyQ',\n",
       " 'https://t.co/DzCU5knvnM',\n",
       " 'https://t.co/9K5W3tOayt',\n",
       " 'https://t.co/7pyBveEvkS https://t.co/DPbILlNXFY',\n",
       " 'When Joe Biden was VP...https://t.co/Ps7Qd08y6t',\n",
       " 'Wow. Won’t let Poll Watchers &amp; Security into Philadelphia Voting Places. There is only one reason why. Corruption!!… https://t.co/mkWsQx48e7',\n",
       " 'Just arrived in the Great State of Ohio. Real Polls have us leading by even more than 2016. With Biden being agains… https://t.co/bV65znfZf4',\n",
       " 'WOW! https://t.co/rKu2PTcxxv',\n",
       " 'https://t.co/PAw9oibHyx',\n",
       " 'https://t.co/AOmhFwjxKC',\n",
       " 'https://t.co/FnFGjzd2er',\n",
       " 'https://t.co/h4Ft5zhcmL',\n",
       " 'https://t.co/J0tnBeIz6x',\n",
       " 'Thank you #Truckers4Trump! \\nhttps://t.co/leBrV3wo0J',\n",
       " 'https://t.co/fsVQbvjlnx',\n",
       " 'The “Trump Doctrine” earns President Trump a third Nobel Peace Prize Nomination! @LouDobbs',\n",
       " 'https://t.co/gsFSghkmdM',\n",
       " 'Joe Biden just announced that he will not agree to a Drug Test. Gee, I wonder why?',\n",
       " '.....Financial Statements, from  the time I announced I was going to run for President,  showing all properties, as… https://t.co/YEAKatL91F',\n",
       " '.....Also, if you look at the extraordinary assets owned by me, which the Fake News hasn’t, I am extremely under le… https://t.co/XFzj3W2702']"
      ]
     },
     "execution_count": 159,
     "metadata": {},
     "output_type": "execute_result"
    }
   ],
   "source": [
    "extract(api,10)"
   ]
  },
  {
   "cell_type": "code",
   "execution_count": 166,
   "metadata": {},
   "outputs": [
    {
     "ename": "TweepError",
     "evalue": "This method does not perform pagination",
     "output_type": "error",
     "traceback": [
      "\u001b[0;31m---------------------------------------------------------------------------\u001b[0m",
      "\u001b[0;31mTweepError\u001b[0m                                Traceback (most recent call last)",
      "\u001b[0;32m<ipython-input-166-a64df678a8ef>\u001b[0m in \u001b[0;36m<module>\u001b[0;34m\u001b[0m\n\u001b[0;32m----> 1\u001b[0;31m \u001b[0;32mfor\u001b[0m \u001b[0mx\u001b[0m \u001b[0;32min\u001b[0m \u001b[0mtweepy\u001b[0m\u001b[0;34m.\u001b[0m\u001b[0mCursor\u001b[0m\u001b[0;34m(\u001b[0m\u001b[0mapi\u001b[0m\u001b[0;34m.\u001b[0m\u001b[0muser_timeline\u001b[0m\u001b[0;34m(\u001b[0m\u001b[0;34m\"@realdonaldtrump\"\u001b[0m\u001b[0;34m)\u001b[0m\u001b[0;34m)\u001b[0m\u001b[0;34m.\u001b[0m\u001b[0mpages\u001b[0m\u001b[0;34m(\u001b[0m\u001b[0;34m)\u001b[0m\u001b[0;34m:\u001b[0m\u001b[0;34m\u001b[0m\u001b[0;34m\u001b[0m\u001b[0m\n\u001b[0m\u001b[1;32m      2\u001b[0m     \u001b[0mprint\u001b[0m\u001b[0;34m(\u001b[0m\u001b[0mx\u001b[0m\u001b[0;34m)\u001b[0m\u001b[0;34m\u001b[0m\u001b[0;34m\u001b[0m\u001b[0m\n",
      "\u001b[0;32m~/opt/anaconda3/lib/python3.7/site-packages/tweepy/cursor.py\u001b[0m in \u001b[0;36m__init__\u001b[0;34m(self, method, *args, **kwargs)\u001b[0m\n\u001b[1;32m     23\u001b[0m                 \u001b[0;32mraise\u001b[0m \u001b[0mTweepError\u001b[0m\u001b[0;34m(\u001b[0m\u001b[0;34m'Invalid pagination mode.'\u001b[0m\u001b[0;34m)\u001b[0m\u001b[0;34m\u001b[0m\u001b[0;34m\u001b[0m\u001b[0m\n\u001b[1;32m     24\u001b[0m         \u001b[0;32melse\u001b[0m\u001b[0;34m:\u001b[0m\u001b[0;34m\u001b[0m\u001b[0;34m\u001b[0m\u001b[0m\n\u001b[0;32m---> 25\u001b[0;31m             \u001b[0;32mraise\u001b[0m \u001b[0mTweepError\u001b[0m\u001b[0;34m(\u001b[0m\u001b[0;34m'This method does not perform pagination'\u001b[0m\u001b[0;34m)\u001b[0m\u001b[0;34m\u001b[0m\u001b[0;34m\u001b[0m\u001b[0m\n\u001b[0m\u001b[1;32m     26\u001b[0m \u001b[0;34m\u001b[0m\u001b[0m\n\u001b[1;32m     27\u001b[0m     \u001b[0;32mdef\u001b[0m \u001b[0mpages\u001b[0m\u001b[0;34m(\u001b[0m\u001b[0mself\u001b[0m\u001b[0;34m,\u001b[0m \u001b[0mlimit\u001b[0m\u001b[0;34m=\u001b[0m\u001b[0;36m0\u001b[0m\u001b[0;34m)\u001b[0m\u001b[0;34m:\u001b[0m\u001b[0;34m\u001b[0m\u001b[0;34m\u001b[0m\u001b[0m\n",
      "\u001b[0;31mTweepError\u001b[0m: This method does not perform pagination"
     ]
    }
   ],
   "source": [
    "for x in tweepy.Cursor(api.user_timeline(\"@realdonaldtrump\")).pages():\n",
    "    print(x)"
   ]
  },
  {
   "cell_type": "code",
   "execution_count": null,
   "metadata": {},
   "outputs": [],
   "source": []
  }
 ],
 "metadata": {
  "kernelspec": {
   "display_name": "Python 3",
   "language": "python",
   "name": "python3"
  },
  "language_info": {
   "codemirror_mode": {
    "name": "ipython",
    "version": 3
   },
   "file_extension": ".py",
   "mimetype": "text/x-python",
   "name": "python",
   "nbconvert_exporter": "python",
   "pygments_lexer": "ipython3",
   "version": "3.7.4"
  }
 },
 "nbformat": 4,
 "nbformat_minor": 4
}
